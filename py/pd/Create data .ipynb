{
 "cells": [
  {
   "cell_type": "markdown",
   "id": "d4a7e040-b07a-47f9-8cd9-f239b51ca816",
   "metadata": {},
   "source": [
    "# Create Data"
   ]
  },
  {
   "cell_type": "code",
   "execution_count": 1,
   "id": "f3c7ab73-c073-4291-9391-4d3d2587242f",
   "metadata": {},
   "outputs": [],
   "source": [
    "import numpy as np"
   ]
  },
  {
   "cell_type": "code",
   "execution_count": 2,
   "id": "4c85c0c6-6bab-4ac9-912e-9da96c2b1da3",
   "metadata": {},
   "outputs": [],
   "source": [
    "import pandas as pd"
   ]
  },
  {
   "cell_type": "code",
   "execution_count": 3,
   "id": "8df4593b-1590-403e-a66d-0b239bc544d6",
   "metadata": {},
   "outputs": [],
   "source": [
    "import random # create random values "
   ]
  },
  {
   "cell_type": "code",
   "execution_count": null,
   "id": "114f33d5-58e0-4e67-a684-3dcd3c2ca94d",
   "metadata": {},
   "outputs": [],
   "source": []
  },
  {
   "cell_type": "code",
   "execution_count": null,
   "id": "7858a047-16e1-4d89-8e41-7aaf06143c77",
   "metadata": {},
   "outputs": [],
   "source": [
    "# Rollnos - list\n"
   ]
  },
  {
   "cell_type": "code",
   "execution_count": 5,
   "id": "d8ff3ae2-5b28-4998-8968-29722f9899cc",
   "metadata": {},
   "outputs": [
    {
     "name": "stdout",
     "output_type": "stream",
     "text": [
      "<class 'list'> [1, 2, 3, 4, 5, 6, 7, 8, 9, 10, 11, 12, 13, 14, 15, 16, 17, 18, 19, 20, 21, 22, 23, 24, 25, 26, 27, 28, 29, 30]\n"
     ]
    }
   ],
   "source": [
    "rollno = list(range(1, 31))   # 20 students; 1 to 21-1\n",
    "print(type(rollno), rollno)"
   ]
  },
  {
   "cell_type": "code",
   "execution_count": null,
   "id": "50940e68-c23c-43ef-b04e-f6444bdb818f",
   "metadata": {},
   "outputs": [],
   "source": []
  },
  {
   "cell_type": "code",
   "execution_count": null,
   "id": "ee63dbc4-ec2b-439f-9b90-56c62094364b",
   "metadata": {},
   "outputs": [],
   "source": []
  },
  {
   "cell_type": "code",
   "execution_count": 10,
   "id": "2f63ba6f-d4d6-4516-af30-2e42ec75a1f3",
   "metadata": {},
   "outputs": [
    {
     "name": "stdout",
     "output_type": "stream",
     "text": [
      "6\n"
     ]
    }
   ],
   "source": [
    "wiki1 = \"https://en.wikipedia.org/wiki/List_of_cities_by_GDP\"\n",
    "tables = pd.read_html(wiki1)\n",
    "print(len(tables))"
   ]
  },
  {
   "cell_type": "code",
   "execution_count": 11,
   "id": "5a948866-1a61-4737-b61d-e4934e37ca34",
   "metadata": {},
   "outputs": [
    {
     "name": "stdout",
     "output_type": "stream",
     "text": [
      "Found 6 tables\n"
     ]
    }
   ],
   "source": [
    "print(f\"Found {len(tables)} tables\")"
   ]
  },
  {
   "cell_type": "code",
   "execution_count": 12,
   "id": "7552ccfc-33ca-401b-8d5d-bbd585186a92",
   "metadata": {},
   "outputs": [],
   "source": [
    "df_wik = tables[2]"
   ]
  },
  {
   "cell_type": "code",
   "execution_count": 13,
   "id": "e9af01ca-84c0-439d-950f-ab74ddd79817",
   "metadata": {},
   "outputs": [
    {
     "data": {
      "text/html": [
       "<div>\n",
       "<style scoped>\n",
       "    .dataframe tbody tr th:only-of-type {\n",
       "        vertical-align: middle;\n",
       "    }\n",
       "\n",
       "    .dataframe tbody tr th {\n",
       "        vertical-align: top;\n",
       "    }\n",
       "\n",
       "    .dataframe thead th {\n",
       "        text-align: right;\n",
       "    }\n",
       "</style>\n",
       "<table border=\"1\" class=\"dataframe\">\n",
       "  <thead>\n",
       "    <tr style=\"text-align: right;\">\n",
       "      <th></th>\n",
       "      <th>City proper/metropolitan area</th>\n",
       "      <th>Country/region</th>\n",
       "      <th>GDP  (billion US$)</th>\n",
       "      <th>Population</th>\n",
       "    </tr>\n",
       "  </thead>\n",
       "  <tbody>\n",
       "    <tr>\n",
       "      <th>0</th>\n",
       "      <td>A Coruña metropolitan area</td>\n",
       "      <td>Spain</td>\n",
       "      <td>32.344 (2021)[5]</td>\n",
       "      <td>1,121,758 (2021)[6]</td>\n",
       "    </tr>\n",
       "    <tr>\n",
       "      <th>1</th>\n",
       "      <td>Aachen</td>\n",
       "      <td>Germany</td>\n",
       "      <td>27.092 (2021)[5]</td>\n",
       "      <td>556,631 (2021)[6]</td>\n",
       "    </tr>\n",
       "    <tr>\n",
       "      <th>2</th>\n",
       "      <td>Aalborg</td>\n",
       "      <td>Denmark</td>\n",
       "      <td>30.46 (2022)[5]</td>\n",
       "      <td>591,740 (2022)[6]</td>\n",
       "    </tr>\n",
       "    <tr>\n",
       "      <th>3</th>\n",
       "      <td>Aarhus</td>\n",
       "      <td>Denmark</td>\n",
       "      <td>53.383 (2022)[5]</td>\n",
       "      <td>913,861 (2022)[6]</td>\n",
       "    </tr>\n",
       "    <tr>\n",
       "      <th>4</th>\n",
       "      <td>Abbotsford, British Columbia</td>\n",
       "      <td>Canada</td>\n",
       "      <td>7.435 (2021)[7]</td>\n",
       "      <td>205,834 (2021)[8]</td>\n",
       "    </tr>\n",
       "  </tbody>\n",
       "</table>\n",
       "</div>"
      ],
      "text/plain": [
       "  City proper/metropolitan area Country/region GDP  (billion US$)  \\\n",
       "0    A Coruña metropolitan area          Spain   32.344 (2021)[5]   \n",
       "1                        Aachen        Germany   27.092 (2021)[5]   \n",
       "2                       Aalborg        Denmark    30.46 (2022)[5]   \n",
       "3                        Aarhus        Denmark   53.383 (2022)[5]   \n",
       "4  Abbotsford, British Columbia         Canada    7.435 (2021)[7]   \n",
       "\n",
       "            Population  \n",
       "0  1,121,758 (2021)[6]  \n",
       "1    556,631 (2021)[6]  \n",
       "2    591,740 (2022)[6]  \n",
       "3    913,861 (2022)[6]  \n",
       "4    205,834 (2021)[8]  "
      ]
     },
     "execution_count": 13,
     "metadata": {},
     "output_type": "execute_result"
    }
   ],
   "source": [
    "df_wik.head()"
   ]
  },
  {
   "cell_type": "code",
   "execution_count": null,
   "id": "4d1aefc1-d972-45c9-ac05-af755b8e1881",
   "metadata": {},
   "outputs": [],
   "source": []
  }
 ],
 "metadata": {
  "kernelspec": {
   "display_name": "Python 3 (ipykernel)",
   "language": "python",
   "name": "python3"
  },
  "language_info": {
   "codemirror_mode": {
    "name": "ipython",
    "version": 3
   },
   "file_extension": ".py",
   "mimetype": "text/x-python",
   "name": "python",
   "nbconvert_exporter": "python",
   "pygments_lexer": "ipython3",
   "version": "3.13.5"
  }
 },
 "nbformat": 4,
 "nbformat_minor": 5
}
