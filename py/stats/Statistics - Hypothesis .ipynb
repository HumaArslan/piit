{
 "cells": [
  {
   "cell_type": "markdown",
   "id": "786ed343-006c-471f-b4be-93a5f7a824be",
   "metadata": {},
   "source": [
    "# Hypothesis testing \n",
    "- Hypothesis testing compares two opposite ideas about a group of people or things and uses data from a small part of that group (a sample) to decide which idea is more likely true. We collect and study the sample data to check if the claim is correct.\n",
    "\n",
    "-Defining Hypotheses\n",
    "   - Null Hypothesis (H₀): The starting assumption. For example, \"The average visits are 50.\"\n",
    "   - Alternative Hypothesis (H₁): The opposite, saying there is a difference. For example, \"The average visits are not 50.\"\n",
    "\n",
    "- Key Terms of Hypothesis Testing\n",
    "  To understand the Hypothesis testing firstly we need to understand the key terms which are given below:\n",
    "  - Significance Level (α): How sure we want to be before saying the claim is false. Usually, we choose 0.05 (5%).\n",
    "  - p-value: The chance of seeing the data if the null hypothesis is true. If this is less than α, we say the claim is probably false.\n",
    "  - Test Statistic: A number that helps us decide if the data supports or rejects the claim.\n",
    "  - Critical Value: The cutoff point to compare with the test statistic.\n",
    "  - Degrees of freedom: A number that depends on the data size and helps find the critical value.\n"
   ]
  },
  {
   "cell_type": "code",
   "execution_count": null,
   "id": "3ccdbfd1-a063-432e-940e-5fec235ff0af",
   "metadata": {},
   "outputs": [],
   "source": []
  }
 ],
 "metadata": {
  "kernelspec": {
   "display_name": "Python 3 (ipykernel)",
   "language": "python",
   "name": "python3"
  },
  "language_info": {
   "codemirror_mode": {
    "name": "ipython",
    "version": 3
   },
   "file_extension": ".py",
   "mimetype": "text/x-python",
   "name": "python",
   "nbconvert_exporter": "python",
   "pygments_lexer": "ipython3",
   "version": "3.13.5"
  }
 },
 "nbformat": 4,
 "nbformat_minor": 5
}
