{
 "cells": [
  {
   "cell_type": "markdown",
   "id": "d1ea9dd5-2ccd-4654-ab82-deffff0d71f5",
   "metadata": {},
   "source": [
    "### H-Tests in Python"
   ]
  },
  {
   "cell_type": "code",
   "execution_count": 2,
   "id": "63902bcb-b836-4d64-a4f6-f0ad7d785d5a",
   "metadata": {},
   "outputs": [],
   "source": [
    "# In python to compare that 2 different samples have same mean\n",
    "import scipy.stats as stats\n",
    "import numpy as np"
   ]
  },
  {
   "cell_type": "code",
   "execution_count": 3,
   "id": "e98325d7-9328-483c-b041-ad47c750c9a0",
   "metadata": {},
   "outputs": [
    {
     "name": "stdout",
     "output_type": "stream",
     "text": [
      "T-statistic: -2.949539548227186\n",
      "P-value: 0.004582524652453492\n"
     ]
    }
   ],
   "source": [
    "# Example: Independent Samples T-test\n",
    "group1 = np.random.normal(loc=50, scale=10, size=30) #loc-mean, scale-std, size=samples\n",
    "group2 = np.random.normal(loc=55, scale=10, size=30)\n",
    "\n",
    "t_statistic, p_value = stats.ttest_ind(group1, group2)\n",
    "print(f\"T-statistic: {t_statistic}\")\n",
    "print(f\"P-value: {p_value}\")\n",
    "\n",
    "# is pvalues < .05 : Yes: reject Ho in favor or Ha\n",
    "#Ho : means of group1 = group2  - no difference\n",
    "#Ha : means of group1 != group2 - significant difference"
   ]
  },
  {
   "cell_type": "code",
   "execution_count": 4,
   "id": "71a4b7d7-d3b9-4685-8ab3-496ae53601e7",
   "metadata": {},
   "outputs": [
    {
     "name": "stdout",
     "output_type": "stream",
     "text": [
      "Reject the null hypothesis.\n"
     ]
    }
   ],
   "source": [
    "alpha = 0.05\n",
    "if p_value < alpha:\n",
    "    print(\"Reject the null hypothesis.\")\n",
    "else:\n",
    "    print(\"Fail to reject the null hypothesis.\")"
   ]
  },
  {
   "cell_type": "markdown",
   "id": "46cebf8c-60bf-4f80-bad3-bac37d2ae108",
   "metadata": {},
   "source": [
    "### 1-sample t-test\n",
    "\n",
    "- Compare sample mean to a known population mean."
   ]
  },
  {
   "cell_type": "code",
   "execution_count": 5,
   "id": "16ae0a60-d60e-4d79-b4e5-d5f3f82325e0",
   "metadata": {},
   "outputs": [],
   "source": [
    "from scipy.stats import ttest_1samp\n",
    "import numpy as np"
   ]
  },
  {
   "cell_type": "code",
   "execution_count": 8,
   "id": "8d649461-85ac-4b14-8944-1084c8115cb2",
   "metadata": {},
   "outputs": [
    {
     "data": {
      "text/plain": [
       "array([26.0711462 , 17.69172495, 23.64331885, 27.53575618, 21.17253964,\n",
       "       22.86286089, 21.04412521, 29.65789135, 29.49158876, 23.24446248,\n",
       "       18.42255484, 30.43918527, 21.55355103, 29.82454888, 26.09825048,\n",
       "       24.34897704, 25.18574763, 25.8638339 , 28.35740802, 14.7391708 ,\n",
       "       21.14462855, 23.2936933 , 29.36694831, 24.33381755, 34.75766687,\n",
       "       24.16476467, 24.65939481, 28.22970577, 28.12631211, 21.13950829])"
      ]
     },
     "execution_count": 8,
     "metadata": {},
     "output_type": "execute_result"
    }
   ],
   "source": [
    "data = np.random.normal(loc=25, scale=5, size=30) # sample data\n",
    "data"
   ]
  },
  {
   "cell_type": "code",
   "execution_count": 9,
   "id": "7dfe5c90-0659-4c4c-a99a-58bce7a66a2e",
   "metadata": {},
   "outputs": [
    {
     "name": "stdout",
     "output_type": "stream",
     "text": [
      "t-statistic: -31.952352573378782\n",
      "p-value; 3.719562429344521e-24\n"
     ]
    }
   ],
   "source": [
    "t_stat, p_val = ttest_1samp(data, popmean=50)\n",
    "\n",
    "print(\"t-statistic:\", t_stat)\n",
    "print(\"p-value;\", p_val)"
   ]
  },
  {
   "cell_type": "markdown",
   "id": "3fe58e36-22b3-48a5-b723-e92641d8dc0f",
   "metadata": {},
   "source": [
    "##### Interpretation:\n",
    "\n",
    "- If p_val < 0.05 → Reject H₀ (mean ≠ 50)\n",
    "- If p_val ≥ 0.05 → Fail to reject H₀"
   ]
  },
  {
   "cell_type": "markdown",
   "id": "ca265db3-112e-46b6-8a55-38afdc921707",
   "metadata": {},
   "source": [
    "#### Independent two-sample t-test\n",
    "\n",
    "- Compare means of two independent groups\n",
    "- If p < 0.05 → significant difference between groups."
   ]
  },
  {
   "cell_type": "code",
   "execution_count": 10,
   "id": "e1ad1682-35e2-4ac0-8473-c2548c5fa7c3",
   "metadata": {},
   "outputs": [],
   "source": [
    "from scipy.stats import ttest_ind"
   ]
  },
  {
   "cell_type": "code",
   "execution_count": 11,
   "id": "80c8d77f-30e5-4932-b2be-07e879f61983",
   "metadata": {},
   "outputs": [
    {
     "name": "stdout",
     "output_type": "stream",
     "text": [
      "Group-1; [46.42210661 39.05698496 43.24283755 48.69590307 47.4666155  56.95761769\n",
      " 49.30834282 42.63934917 47.15559677 49.15504625 45.14297215 50.31575995\n",
      " 46.29241367 50.93753304 56.2012614  43.81208261 57.59242795 53.614152\n",
      " 41.77256185 64.40362189 47.42869546 44.2249333  45.00714734 47.15352789\n",
      " 54.21829239 46.48883819 41.48350008 47.23368574 44.14357884 50.90741042] \n",
      "Group-2: [54.58487221 58.60629672 53.242493   55.81792998 60.93887005 49.866082\n",
      " 49.49513633 49.03555046 59.18578071 59.72174006 58.90855291 53.34252508\n",
      " 57.93100008 59.33928534 53.97413144 55.03256378 55.94100074 53.55369027\n",
      " 62.23545797 53.69185186 52.61407876 55.96963573 65.26687406 55.56936958\n",
      " 59.23883595 52.92182088 54.9168352  54.11669184 53.08535262 62.33477954]\n"
     ]
    }
   ],
   "source": [
    "group1 = np.random.normal(50, 5, 30)\n",
    "group2 = np.random.normal(55, 5, 30)\n",
    "print(\"Group-1;\", group1, '\\nGroup-2:',group2)"
   ]
  },
  {
   "cell_type": "code",
   "execution_count": 12,
   "id": "9ef16283-4769-434d-ad03-7610adabc7a7",
   "metadata": {},
   "outputs": [
    {
     "name": "stdout",
     "output_type": "stream",
     "text": [
      "t-statu=istic: -6.234181927281126 p-value: 5.584794013141387e-08\n"
     ]
    }
   ],
   "source": [
    "t_stat, p_val = ttest_ind(group1, group2)\n",
    "print(\"t-statu=istic:\", t_stat, \"p-value:\", p_val)"
   ]
  },
  {
   "cell_type": "markdown",
   "id": "1f58500a-2528-427e-b9d7-d4662ff42737",
   "metadata": {},
   "source": [
    "#### Paired t-test\n",
    "\n",
    "- For before/after or matched pairs.\n",
    "- If p < 0.05 → the treatment had a significant effect."
   ]
  },
  {
   "cell_type": "code",
   "execution_count": 13,
   "id": "027c9c24-bb2c-4f5a-9bce-c1fb71d90170",
   "metadata": {},
   "outputs": [],
   "source": [
    "from scipy.stats import ttest_rel"
   ]
  },
  {
   "cell_type": "code",
   "execution_count": 14,
   "id": "6dffef2f-58ae-416f-acf0-e33eb1b86fb2",
   "metadata": {},
   "outputs": [
    {
     "name": "stdout",
     "output_type": "stream",
     "text": [
      "Before; [110.93579802  98.65402053 101.0730244  101.96686522  99.55086741\n",
      "  91.30407643 101.24323555 123.22603752  89.481409    95.06586499\n",
      "  79.42490106 109.31419608  95.59990868 107.19050336  84.01123345\n",
      "  97.98289078  94.32978868 102.6339287   90.86391359  98.93641836\n",
      "  95.66476946  97.77857026  93.92204724  90.37448278  81.49347176\n",
      " 105.42454132  82.35942075  92.63680395  99.83375425  85.47512218] \n",
      " After: [105.97073694  92.59176517  97.19933622  99.33333674  96.17004883\n",
      "  80.94379686  99.36136172 115.85936673  81.4793226   84.94098627\n",
      "  74.11789444 109.07082112  86.44758763 101.99099673  80.07491473\n",
      "  95.91667839  91.02699815  96.9783565   85.123534    95.0120825\n",
      "  88.0359656   94.3348387   83.85667437  84.28355065  76.40981152\n",
      " 100.24318929  72.98045677  88.42767657  91.78991859  77.79371922]\n"
     ]
    }
   ],
   "source": [
    "before = np.random.normal(100, 10, 30)\n",
    "after = before - np.random.normal(5, 3, 30) # after treatment\n",
    "\n",
    "print(\"Before;\", before, '\\n After:', after)"
   ]
  },
  {
   "cell_type": "code",
   "execution_count": 15,
   "id": "55921d06-80c6-4181-9dc6-eee41e31123e",
   "metadata": {},
   "outputs": [
    {
     "name": "stdout",
     "output_type": "stream",
     "text": [
      "t-statistic: 11.705096538604927 p-value: 1.6543250377224349e-12\n"
     ]
    }
   ],
   "source": [
    "t_stat, p_val = ttest_rel(before, after)\n",
    "print(\"t-statistic:\", t_stat, \"p-value:\", p_val)"
   ]
  },
  {
   "cell_type": "markdown",
   "id": "539295fa-2a97-43be-9b5f-051c1cdb8879",
   "metadata": {},
   "source": [
    "#### Chi-square test\n",
    "\n",
    "- Check if two categorical variables are related.\n",
    "- If p < 0.05 → significant relationship between gender & product liking."
   ]
  },
  {
   "cell_type": "code",
   "execution_count": 17,
   "id": "2e6bd38d-5c54-4802-8465-d27cd1c0a37d",
   "metadata": {},
   "outputs": [],
   "source": [
    "import pandas as pd\n",
    "from scipy.stats import chi2_contingency"
   ]
  },
  {
   "cell_type": "code",
   "execution_count": 18,
   "id": "0848f335-d372-461c-9a2f-5b93b8d012de",
   "metadata": {},
   "outputs": [
    {
     "data": {
      "text/html": [
       "<div>\n",
       "<style scoped>\n",
       "    .dataframe tbody tr th:only-of-type {\n",
       "        vertical-align: middle;\n",
       "    }\n",
       "\n",
       "    .dataframe tbody tr th {\n",
       "        vertical-align: top;\n",
       "    }\n",
       "\n",
       "    .dataframe thead th {\n",
       "        text-align: right;\n",
       "    }\n",
       "</style>\n",
       "<table border=\"1\" class=\"dataframe\">\n",
       "  <thead>\n",
       "    <tr style=\"text-align: right;\">\n",
       "      <th></th>\n",
       "      <th>Male</th>\n",
       "      <th>Female</th>\n",
       "    </tr>\n",
       "  </thead>\n",
       "  <tbody>\n",
       "    <tr>\n",
       "      <th>Like Product</th>\n",
       "      <td>30</td>\n",
       "      <td>20</td>\n",
       "    </tr>\n",
       "    <tr>\n",
       "      <th>Don't Like</th>\n",
       "      <td>10</td>\n",
       "      <td>40</td>\n",
       "    </tr>\n",
       "  </tbody>\n",
       "</table>\n",
       "</div>"
      ],
      "text/plain": [
       "              Male  Female\n",
       "Like Product    30      20\n",
       "Don't Like      10      40"
      ]
     },
     "execution_count": 18,
     "metadata": {},
     "output_type": "execute_result"
    }
   ],
   "source": [
    "data = pd.DataFrame({\"Male\": [30,10], \"Female\": [20,40]}, index=[\"Like Product\", \"Don't Like\"]) # Example contigency table\n",
    "data"
   ]
  },
  {
   "cell_type": "code",
   "execution_count": 22,
   "id": "38026d0e-3ff0-48d7-a54f-b957fb445e1b",
   "metadata": {},
   "outputs": [
    {
     "name": "stdout",
     "output_type": "stream",
     "text": [
      "Chi2: 15.041666666666668\n",
      "p-value: 0.00010516355403363114\n"
     ]
    }
   ],
   "source": [
    "chi2, p, dof, expected = chi2_contingency(data)\n",
    "\n",
    "print(\"Chi2:\", chi2)\n",
    "print(\"p-value:\", p)"
   ]
  },
  {
   "cell_type": "markdown",
   "id": "985fb34f-fa3e-44f2-aaa4-96c2610ffb0c",
   "metadata": {},
   "source": [
    "#### ANOVA (3 or more groups)\n",
    "\n",
    "- Compare multiple group means.\n",
    "- If p < 0.05 → at least one group mean differs."
   ]
  },
  {
   "cell_type": "code",
   "execution_count": 24,
   "id": "3ab51765-e8a1-48c7-b152-ae917d16fa98",
   "metadata": {},
   "outputs": [],
   "source": [
    "from scipy.stats import f_oneway"
   ]
  },
  {
   "cell_type": "code",
   "execution_count": 26,
   "id": "79475161-b7d4-49f1-9320-d1bdefd651bc",
   "metadata": {},
   "outputs": [
    {
     "name": "stdout",
     "output_type": "stream",
     "text": [
      "A: [49.54488685 47.14097181 63.63102118 55.0737603  45.1017202  62.55048175\n",
      " 45.6449275  54.54340441 46.92409844 43.07785586 41.28940059 55.52803792\n",
      " 51.48957434 53.90755701 50.23673219 46.93910073 47.65650086 58.41101528\n",
      " 42.5261155  52.52183114 57.37885611 46.70239274 55.05937674 56.8293682\n",
      " 50.71807417 46.86408189 47.21555377 52.61777185 43.50057634 54.43273778] \n",
      " B; [50.07576227 46.73476048 48.30700297 54.55234439 52.98203628 53.35758623\n",
      " 52.61105088 55.01799077 58.31940706 42.44141831 59.14628214 55.39898579\n",
      " 47.14272151 58.36448543 56.49896827 57.4833482  50.82118079 54.32955686\n",
      " 55.9610714  53.01682128 48.80973722 59.8420061  57.50879159 60.13138828\n",
      " 54.01579779 59.33940593 57.47650912 49.88979407 50.81854604 56.39661958] \n",
      " C: [68.12205474 54.78935401 56.46903221 60.76697362 58.71071861 67.39920824\n",
      " 64.18733226 58.90991099 62.92072801 72.62987748 64.56340839 62.42547791\n",
      " 58.79477358 50.78577241 63.28541956 58.32980919 63.51391051 66.38426566\n",
      " 64.11927322 55.36895851 51.82131815 51.53561683 57.61769739 63.59516504\n",
      " 57.49504408 61.97959945 63.16410995 58.10837303 56.52034799 57.73588788]\n"
     ]
    }
   ],
   "source": [
    "groupA = np.random.normal(50, 5, 30)\n",
    "groupB = np.random.normal(55, 5, 30)\n",
    "groupC = np.random.normal(60, 5, 30)\n",
    "\n",
    "print('A:', groupA, '\\n B;', groupB,'\\n C:', groupC)\n",
    "            "
   ]
  },
  {
   "cell_type": "code",
   "execution_count": 27,
   "id": "a137d126-a474-4139-9ab5-bb69fbb9f9de",
   "metadata": {},
   "outputs": [
    {
     "name": "stdout",
     "output_type": "stream",
     "text": [
      "F-statistic: 27.041583449844797 p-value: 7.360652256731915e-10\n"
     ]
    }
   ],
   "source": [
    "f_stat, p_val= f_oneway(groupA, groupB, groupC)\n",
    "print(\"F-statistic:\", f_stat, \"p-value:\", p_val)"
   ]
  }
 ],
 "metadata": {
  "kernelspec": {
   "display_name": "Python 3 (ipykernel)",
   "language": "python",
   "name": "python3"
  },
  "language_info": {
   "codemirror_mode": {
    "name": "ipython",
    "version": 3
   },
   "file_extension": ".py",
   "mimetype": "text/x-python",
   "name": "python",
   "nbconvert_exporter": "python",
   "pygments_lexer": "ipython3",
   "version": "3.13.5"
  }
 },
 "nbformat": 4,
 "nbformat_minor": 5
}
