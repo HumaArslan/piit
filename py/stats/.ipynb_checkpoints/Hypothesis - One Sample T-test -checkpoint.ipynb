{
 "cells": [
  {
   "cell_type": "code",
   "execution_count": null,
   "id": "a0292fa2-86c2-452b-bd55-9656c6135c0f",
   "metadata": {},
   "outputs": [],
   "source": []
  },
  {
   "cell_type": "markdown",
   "id": "bfd8106f-6889-4b3a-b8e4-8c327734702f",
   "metadata": {},
   "source": [
    "## One Sample T-test"
   ]
  },
  {
   "cell_type": "markdown",
   "id": "0ecf31ae-583a-4383-b591-5b17c9537309",
   "metadata": {},
   "source": [
    "### Average daily sleep hours\n",
    "- Researcher believes that adults sleep on average 8 hours per night.\n",
    "   - Collect a sample of 15 people and record their sleep hour\n",
    "   - Test if the mean sleep time is significantly different from 8.\n",
    "         \n",
    "- Ho : mu = 8 (if pvalue > 0.05) : failed to reject Ho\n",
    "- Ha : mu != 8 (if pvalue < 0.05); reject Ho infavour of Ha"
   ]
  },
  {
   "cell_type": "code",
   "execution_count": 16,
   "id": "e5930667-bf3d-401d-ab61-15fd52e7fafe",
   "metadata": {},
   "outputs": [],
   "source": [
    "import numpy as np\n",
    "from scipy.stats import ttest_1samp   "
   ]
  },
  {
   "cell_type": "code",
   "execution_count": 17,
   "id": "9fa6e90a-8a3b-4ae8-a1c4-d057eaeb4483",
   "metadata": {},
   "outputs": [],
   "source": [
    "sleep_hours = np.array([7.5, 8.2, 6.9, 7.8, 8.5, 7.3, 8.1, 7.7, 7.9, 6.8, 8.4, 7.6, 7.2, 8.0, 7.4])"
   ]
  },
  {
   "cell_type": "code",
   "execution_count": 18,
   "id": "b06cf4ea-b232-4b92-a269-7117055ae7fe",
   "metadata": {},
   "outputs": [],
   "source": [
    "mu = 8"
   ]
  },
  {
   "cell_type": "code",
   "execution_count": 19,
   "id": "eaa675a8-befd-4d05-a0f1-f24e4fbf13aa",
   "metadata": {},
   "outputs": [],
   "source": [
    "t_stat, p_value = ttest_1samp(sleep_hours, mu)"
   ]
  },
  {
   "cell_type": "code",
   "execution_count": 20,
   "id": "d699ac41-4502-4f6a-bda7-4d3faab7e759",
   "metadata": {},
   "outputs": [
    {
     "name": "stdout",
     "output_type": "stream",
     "text": [
      "t-statistic: -2.367825792741423\n",
      "p-value: 0.03282788098226632\n"
     ]
    }
   ],
   "source": [
    "print(\"t-statistic:\", t_stat)\n",
    "print(\"p-value:\", p_value)"
   ]
  },
  {
   "cell_type": "code",
   "execution_count": 21,
   "id": "0782d2c5-757c-457f-9b44-1f9eedfad2f1",
   "metadata": {},
   "outputs": [
    {
     "name": "stdout",
     "output_type": "stream",
     "text": [
      "Reject the null hypothesis: Average sleep hours differ from 8\n"
     ]
    }
   ],
   "source": [
    "alpha = 0.05\n",
    "if p_value < alpha:\n",
    "    print(\"Reject the null hypothesis: Average sleep hours differ from 8\")\n",
    "else:\n",
    "    print(\"Fail to reject the null hypothesis: No significant difference from 8\")"
   ]
  },
  {
   "cell_type": "code",
   "execution_count": null,
   "id": "1fcde208-5354-4f72-a743-31c20c026fbf",
   "metadata": {},
   "outputs": [],
   "source": []
  },
  {
   "cell_type": "code",
   "execution_count": 22,
   "id": "6002d343-ac1b-489d-9a3d-928476a2e2ff",
   "metadata": {},
   "outputs": [],
   "source": [
    "student_scores = np.array([72, 89, 65, 73, 79, 84, 63, 76, 85, 75])\n",
    "hypothesized_population_mean = 70"
   ]
  },
  {
   "cell_type": "code",
   "execution_count": 23,
   "id": "00a67ed7-b659-4640-9649-0a01b8f31072",
   "metadata": {},
   "outputs": [],
   "source": [
    "t_statistic, p_value = ttest_1samp(student_scores, hypothesized_population_mean)"
   ]
  },
  {
   "cell_type": "code",
   "execution_count": 26,
   "id": "482043de-06e2-46a4-85ed-a235e022ea3e",
   "metadata": {},
   "outputs": [
    {
     "name": "stdout",
     "output_type": "stream",
     "text": [
      "Sample data: [72 89 65 73 79 84 63 76 85 75]\n",
      "Hypothesized population mean: 70\n",
      "T-statistic: 2.289\n",
      "P-value: 0.048\n"
     ]
    }
   ],
   "source": [
    "print(f\"Sample data: {student_scores}\")\n",
    "print(f\"Hypothesized population mean: {hypothesized_population_mean}\")\n",
    "print(f\"T-statistic: {t_statistic:.3f}\")\n",
    "print(f\"P-value: {p_value:.3f}\")"
   ]
  },
  {
   "cell_type": "code",
   "execution_count": 27,
   "id": "3420ae40-c4c3-4b85-af27-283153968ae7",
   "metadata": {},
   "outputs": [
    {
     "name": "stdout",
     "output_type": "stream",
     "text": [
      "Since the p-value (0.048) is less than alpha (0.05), we reject the null hypothesis.\n",
      "Conclusion: The sample mean is significantly different from the hypothesized population mean.\n"
     ]
    }
   ],
   "source": [
    "alpha = 0.05\n",
    "if p_value < alpha:\n",
    "    print(f\"Since the p-value ({p_value:.3f}) is less than alpha ({alpha}), we reject the null hypothesis.\")\n",
    "    print(\"Conclusion: The sample mean is significantly different from the hypothesized population mean.\")\n",
    "else:\n",
    "    print(f\"Since the p-value ({p_value:.3f}) is greater than alpha ({alpha}), we fail to reject the null hypothesis.\")\n",
    "    print(\"Conclusion: There is no significant evidence to suggest the sample mean is different from the hypothesized population mean.\")"
   ]
  },
  {
   "cell_type": "code",
   "execution_count": null,
   "id": "5ae5b99a-aac8-420d-ac0e-6192b95810d4",
   "metadata": {},
   "outputs": [],
   "source": []
  },
  {
   "cell_type": "code",
   "execution_count": null,
   "id": "5875c12d-f5bc-4e83-9137-df9d464c74d6",
   "metadata": {},
   "outputs": [],
   "source": []
  }
 ],
 "metadata": {
  "kernelspec": {
   "display_name": "Python 3 (ipykernel)",
   "language": "python",
   "name": "python3"
  },
  "language_info": {
   "codemirror_mode": {
    "name": "ipython",
    "version": 3
   },
   "file_extension": ".py",
   "mimetype": "text/x-python",
   "name": "python",
   "nbconvert_exporter": "python",
   "pygments_lexer": "ipython3",
   "version": "3.13.5"
  }
 },
 "nbformat": 4,
 "nbformat_minor": 5
}
