{
 "cells": [
  {
   "cell_type": "markdown",
   "id": "bfd8106f-6889-4b3a-b8e4-8c327734702f",
   "metadata": {},
   "source": [
    "# One Sample T-test"
   ]
  },
  {
   "cell_type": "markdown",
   "id": "0ecf31ae-583a-4383-b591-5b17c9537309",
   "metadata": {},
   "source": [
    "### Average daily sleep hours\n",
    "- Researcher believes that adults sleep on average 8 hours per night.\n",
    "   - Collect a sample of 15 people and record their sleep hour\n",
    "   - Test if the mean sleep time is significantly different from 8."
   ]
  },
  {
   "cell_type": "code",
   "execution_count": 11,
   "id": "e5930667-bf3d-401d-ab61-15fd52e7fafe",
   "metadata": {},
   "outputs": [],
   "source": [
    "import numpy as np\n",
    "from scipy.stats import ttest_1samp   "
   ]
  },
  {
   "cell_type": "code",
   "execution_count": 12,
   "id": "9fa6e90a-8a3b-4ae8-a1c4-d057eaeb4483",
   "metadata": {},
   "outputs": [],
   "source": [
    "sleep_hours = np.array([7.5, 8.2, 6.9, 7.8, 8.5, 7.3, 8.1, 7.7, 7.9, 6.8, 8.4, 7.6, 7.2, 8.0, 7.4])"
   ]
  },
  {
   "cell_type": "code",
   "execution_count": 13,
   "id": "b06cf4ea-b232-4b92-a269-7117055ae7fe",
   "metadata": {},
   "outputs": [],
   "source": [
    "mu = 8"
   ]
  },
  {
   "cell_type": "code",
   "execution_count": 15,
   "id": "eaa675a8-befd-4d05-a0f1-f24e4fbf13aa",
   "metadata": {},
   "outputs": [],
   "source": [
    "t_stat, p_value = ttest_1samp(sleep_hours, mu)"
   ]
  },
  {
   "cell_type": "code",
   "execution_count": 16,
   "id": "d699ac41-4502-4f6a-bda7-4d3faab7e759",
   "metadata": {},
   "outputs": [
    {
     "name": "stdout",
     "output_type": "stream",
     "text": [
      "t-statistic: -2.367825792741423\n",
      "p-value: 0.03282788098226632\n"
     ]
    }
   ],
   "source": [
    "print(\"t-statistic:\", t_stat)\n",
    "print(\"p-value:\", p_value)"
   ]
  },
  {
   "cell_type": "code",
   "execution_count": 19,
   "id": "0782d2c5-757c-457f-9b44-1f9eedfad2f1",
   "metadata": {},
   "outputs": [
    {
     "name": "stdout",
     "output_type": "stream",
     "text": [
      "Reject the null hypothesis: Average sleep hours differ from 8\n"
     ]
    }
   ],
   "source": [
    "alpha = 0.05\n",
    "if p_value < alpha:\n",
    "    print(\"Reject the null hypothesis: Average sleep hours differ from 8\")\n",
    "else:\n",
    "    print(\"Fail to reject the null hypothesis: No significant difference from 8\")"
   ]
  },
  {
   "cell_type": "code",
   "execution_count": null,
   "id": "1fcde208-5354-4f72-a743-31c20c026fbf",
   "metadata": {},
   "outputs": [],
   "source": []
  },
  {
   "cell_type": "code",
   "execution_count": 2,
   "id": "6002d343-ac1b-489d-9a3d-928476a2e2ff",
   "metadata": {},
   "outputs": [
    {
     "ename": "NameError",
     "evalue": "name 'np' is not defined",
     "output_type": "error",
     "traceback": [
      "\u001b[1;31m---------------------------------------------------------------------------\u001b[0m",
      "\u001b[1;31mNameError\u001b[0m                                 Traceback (most recent call last)",
      "Cell \u001b[1;32mIn[2], line 1\u001b[0m\n\u001b[1;32m----> 1\u001b[0m student_scores \u001b[38;5;241m=\u001b[39m np\u001b[38;5;241m.\u001b[39marray([\u001b[38;5;241m72\u001b[39m, \u001b[38;5;241m89\u001b[39m, \u001b[38;5;241m65\u001b[39m, \u001b[38;5;241m73\u001b[39m, \u001b[38;5;241m79\u001b[39m, \u001b[38;5;241m84\u001b[39m, \u001b[38;5;241m63\u001b[39m, \u001b[38;5;241m76\u001b[39m, \u001b[38;5;241m85\u001b[39m, \u001b[38;5;241m75\u001b[39m])\n",
      "\u001b[1;31mNameError\u001b[0m: name 'np' is not defined"
     ]
    }
   ],
   "source": [
    "student_scores = np.array([72, 89, 65, 73, 79, 84, 63, 76, 85, 75])"
   ]
  },
  {
   "cell_type": "code",
   "execution_count": null,
   "id": "00a67ed7-b659-4640-9649-0a01b8f31072",
   "metadata": {},
   "outputs": [],
   "source": []
  }
 ],
 "metadata": {
  "kernelspec": {
   "display_name": "Python 3 (ipykernel)",
   "language": "python",
   "name": "python3"
  },
  "language_info": {
   "codemirror_mode": {
    "name": "ipython",
    "version": 3
   },
   "file_extension": ".py",
   "mimetype": "text/x-python",
   "name": "python",
   "nbconvert_exporter": "python",
   "pygments_lexer": "ipython3",
   "version": "3.13.5"
  }
 },
 "nbformat": 4,
 "nbformat_minor": 5
}
