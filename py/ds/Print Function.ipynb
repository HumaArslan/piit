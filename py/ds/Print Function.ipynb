{
 "cells": [
  {
   "cell_type": "markdown",
   "id": "ba72df54-f98e-4a66-845b-0e324e43ca26",
   "metadata": {},
   "source": [
    "# Print Function"
   ]
  },
  {
   "cell_type": "code",
   "execution_count": 1,
   "id": "096c1be8-a4f2-476f-861d-1feacf760283",
   "metadata": {},
   "outputs": [
    {
     "name": "stdout",
     "output_type": "stream",
     "text": [
      "Hello PIIT students\n"
     ]
    }
   ],
   "source": [
    "print('Hello PIIT students')"
   ]
  },
  {
   "cell_type": "markdown",
   "id": "5d1e3407-bb3b-44ef-9fce-742afc63d404",
   "metadata": {},
   "source": [
    "## Separator\n",
    "- Sep\n",
    "- The Sep argumenet defines what to print between multiple values."
   ]
  },
  {
   "cell_type": "code",
   "execution_count": 3,
   "id": "ef10ec51-c21d-4f18-8b1e-0a53be1893a4",
   "metadata": {},
   "outputs": [
    {
     "name": "stdout",
     "output_type": "stream",
     "text": [
      "PIIT,Class,Course,30\n"
     ]
    }
   ],
   "source": [
    "print('PIIT','Class','Course','30', sep=',')"
   ]
  },
  {
   "cell_type": "code",
   "execution_count": 4,
   "id": "9f028be7-1431-46ee-a2ea-8bc32fed8d63",
   "metadata": {},
   "outputs": [
    {
     "name": "stdout",
     "output_type": "stream",
     "text": [
      "Class-Roll no-Students\n"
     ]
    }
   ],
   "source": [
    "print('Class','Roll no', 'Students', sep='-')"
   ]
  },
  {
   "cell_type": "markdown",
   "id": "61ad7f89-d9c9-413b-911e-33203312f8ea",
   "metadata": {},
   "source": [
    "## End of Line Character, can be markup also\n",
    "-end argument controls what comes after the print statement (default is \\n--newline)."
   ]
  },
  {
   "cell_type": "code",
   "execution_count": 7,
   "id": "661b982a-7c8d-410b-8123-14577bfb1fe5",
   "metadata": {},
   "outputs": [
    {
     "name": "stdout",
     "output_type": "stream",
     "text": [
      "Hello PIIT Students....."
     ]
    }
   ],
   "source": [
    "print('Hello PIIT Students', end='.....')"
   ]
  },
  {
   "cell_type": "code",
   "execution_count": 12,
   "id": "b1460df8-c4a4-4857-a1b3-951bff21d7af",
   "metadata": {},
   "outputs": [
    {
     "name": "stdout",
     "output_type": "stream",
     "text": [
      "Hello PIIT"
     ]
    }
   ],
   "source": [
    "print('Hello PIIT', end='')"
   ]
  },
  {
   "cell_type": "code",
   "execution_count": 9,
   "id": "1d27b96c-91e9-4d05-9105-6dbb40463422",
   "metadata": {},
   "outputs": [
    {
     "name": "stdout",
     "output_type": "stream",
     "text": [
      "Hello PIIT\n",
      "PIIT Students\n"
     ]
    }
   ],
   "source": [
    "print('Hello PIIT', end='\\n')\n",
    "print('PIIT Students')"
   ]
  },
  {
   "cell_type": "code",
   "execution_count": 14,
   "id": "d5b4143d-8d61-4f60-afa8-03bed3e4f59b",
   "metadata": {},
   "outputs": [
    {
     "name": "stdout",
     "output_type": "stream",
     "text": [
      "Class-PIIT\n",
      "\n",
      "Students...."
     ]
    }
   ],
   "source": [
    "print('Class', 'PIIT', sep='-', end='\\n\\n')\n",
    "print('Students', end='....')"
   ]
  },
  {
   "cell_type": "code",
   "execution_count": 15,
   "id": "f55c717d-7e79-49d5-af51-4d0480c94550",
   "metadata": {},
   "outputs": [
    {
     "name": "stdout",
     "output_type": "stream",
     "text": [
      "Class-PIIT\tStudents...."
     ]
    }
   ],
   "source": [
    "print('Class', 'PIIT', sep='-', end='\\t')\n",
    "print('Students', end='....')"
   ]
  },
  {
   "cell_type": "markdown",
   "id": "f80d5814-3fca-4dde-b2f5-5521da4c7dee",
   "metadata": {},
   "source": [
    "## Formatted (f) strings\n",
    "- f"
   ]
  },
  {
   "cell_type": "code",
   "execution_count": 20,
   "id": "745607ca-8af4-4771-a725-5e0d62614a28",
   "metadata": {},
   "outputs": [
    {
     "name": "stdout",
     "output_type": "stream",
     "text": [
      "Student-100\n"
     ]
    }
   ],
   "source": [
    "name= \"Student\"\n",
    "score= 100\n",
    "print(name, score, sep='-')"
   ]
  },
  {
   "cell_type": "code",
   "execution_count": 23,
   "id": "361c143e-f25a-4faf-bfe0-5dbff2cc5472",
   "metadata": {},
   "outputs": [
    {
     "name": "stdout",
     "output_type": "stream",
     "text": [
      "Student scored 100 marks.\n"
     ]
    }
   ],
   "source": [
    "print(name, 'scored', score, 'marks.')"
   ]
  },
  {
   "cell_type": "code",
   "execution_count": 25,
   "id": "79246d6f-f21a-4587-b744-1b022ba110ba",
   "metadata": {},
   "outputs": [],
   "source": [
    "rank = 1"
   ]
  },
  {
   "cell_type": "code",
   "execution_count": 27,
   "id": "81ece9bc-9ba2-4356-afb0-bcee64fcebb4",
   "metadata": {},
   "outputs": [
    {
     "name": "stdout",
     "output_type": "stream",
     "text": [
      "Student scored 100 marks and his rank was 1.\n"
     ]
    }
   ],
   "source": [
    "print(f\"{name} scored {score} marks and his rank was {rank}.\")"
   ]
  },
  {
   "cell_type": "code",
   "execution_count": 29,
   "id": "75cfa686-90dd-4500-8a4e-12ef30a04ff5",
   "metadata": {},
   "outputs": [
    {
     "name": "stdout",
     "output_type": "stream",
     "text": [
      "Name of student is Dennise and her age is 20\n"
     ]
    }
   ],
   "source": [
    "name, age='Dennise', 20\n",
    "print(f'Name of student is {name} and her age is {age}')"
   ]
  },
  {
   "cell_type": "markdown",
   "id": "d03e7104-07fd-4125-847d-5e50175689d0",
   "metadata": {},
   "source": [
    "## Format Command\n",
    "\n",
    "-Old Command"
   ]
  },
  {
   "cell_type": "code",
   "execution_count": 31,
   "id": "77df5795-9843-42e2-b5b9-d6ab76dd20ad",
   "metadata": {},
   "outputs": [
    {
     "name": "stdout",
     "output_type": "stream",
     "text": [
      "Name: Dennise, Score: 20\n"
     ]
    }
   ],
   "source": [
    "print(\"Name: {}, Score: {}\". format(\"Dennise\",20))"
   ]
  },
  {
   "cell_type": "code",
   "execution_count": 32,
   "id": "4cbc90f5-8e37-4739-b3a2-eb9317ea0e7a",
   "metadata": {},
   "outputs": [
    {
     "name": "stdout",
     "output_type": "stream",
     "text": [
      "Class: PIIT, Students: 20\n"
     ]
    }
   ],
   "source": [
    "print(\"Class: {}, Students: {}\". format(\"PIIT\",20))"
   ]
  },
  {
   "cell_type": "markdown",
   "id": "6e4f5d94-c431-42c7-8c1b-e314de5a756f",
   "metadata": {},
   "source": [
    "## Printing List or Ranges"
   ]
  },
  {
   "cell_type": "code",
   "execution_count": 33,
   "id": "74b03886-75a1-4dc1-a952-f6aab3d614eb",
   "metadata": {},
   "outputs": [
    {
     "data": {
      "text/plain": [
       "range(5, 10, 2)"
      ]
     },
     "execution_count": 33,
     "metadata": {},
     "output_type": "execute_result"
    }
   ],
   "source": [
    "range(5,10,2)"
   ]
  },
  {
   "cell_type": "code",
   "execution_count": 35,
   "id": "d1cd8e53-8909-4c1d-9383-d1163313f610",
   "metadata": {},
   "outputs": [
    {
     "name": "stdout",
     "output_type": "stream",
     "text": [
      "[0, 1, 2, 3, 4]\n"
     ]
    }
   ],
   "source": [
    "print(list(range(5))) #[0,1,2,3,4]"
   ]
  },
  {
   "cell_type": "code",
   "execution_count": 36,
   "id": "fe01c57f-cfd1-4417-9141-ec3a3b6ea674",
   "metadata": {},
   "outputs": [
    {
     "name": "stdout",
     "output_type": "stream",
     "text": [
      "[2]\n"
     ]
    }
   ],
   "source": [
    "print(list(range(2,4,8)))"
   ]
  },
  {
   "cell_type": "code",
   "execution_count": 37,
   "id": "3ffc6bc1-2ddf-4de9-a61f-7cd9d56cd7a4",
   "metadata": {},
   "outputs": [
    {
     "name": "stdout",
     "output_type": "stream",
     "text": [
      "[5, 7, 9]\n"
     ]
    }
   ],
   "source": [
    "print(list(range(5,10,2)))"
   ]
  },
  {
   "cell_type": "markdown",
   "id": "ec53079e-bd76-4be7-a125-327aa7c81e8c",
   "metadata": {},
   "source": [
    "## Printing with Escape Characters"
   ]
  },
  {
   "cell_type": "code",
   "execution_count": 40,
   "id": "d8194c14-fe05-4b9c-8510-4ffad794002f",
   "metadata": {},
   "outputs": [
    {
     "name": "stdout",
     "output_type": "stream",
     "text": [
      "Dennise \n",
      "Sarah\n"
     ]
    }
   ],
   "source": [
    "print(\"Dennise \\nSarah\") # \\n for new Line"
   ]
  },
  {
   "cell_type": "code",
   "execution_count": 50,
   "id": "d60d2b3d-0662-4e66-940f-c912ad20a275",
   "metadata": {},
   "outputs": [
    {
     "name": "stdout",
     "output_type": "stream",
     "text": [
      "Dennise\t Sarah \t Ana\n"
     ]
    }
   ],
   "source": [
    "print(\"Dennise\\t Sarah \\t Ana\") "
   ]
  },
  {
   "cell_type": "code",
   "execution_count": null,
   "id": "975b91fc-cb03-4255-9479-8a4df7fcedb2",
   "metadata": {},
   "outputs": [],
   "source": []
  }
 ],
 "metadata": {
  "kernelspec": {
   "display_name": "Python 3 (ipykernel)",
   "language": "python",
   "name": "python3"
  },
  "language_info": {
   "codemirror_mode": {
    "name": "ipython",
    "version": 3
   },
   "file_extension": ".py",
   "mimetype": "text/x-python",
   "name": "python",
   "nbconvert_exporter": "python",
   "pygments_lexer": "ipython3",
   "version": "3.13.5"
  }
 },
 "nbformat": 4,
 "nbformat_minor": 5
}
