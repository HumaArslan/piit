{
 "cells": [
  {
   "cell_type": "markdown",
   "id": "cfb9b21c-8fdc-4866-9862-db206870b8b8",
   "metadata": {},
   "source": [
    "# Data Structures - Strings\n",
    "- A string is a sequence of characters. The following facts make string an interesting data structure.\n",
    "- Small set of elements. Unlike normal array, strings typically have smaller set of items. For example, lowercase English alphabet has only 26 characters. ASCII has only 256 characters.\n",
    "- Strings are immutable in programming languages like Java, Python, JavaScript and C#."
   ]
  },
  {
   "cell_type": "code",
   "execution_count": 32,
   "id": "cb1b5e57-10d6-4a42-a5f0-354fe0ced32d",
   "metadata": {},
   "outputs": [],
   "source": [
    "s1 = 'Hello'"
   ]
  },
  {
   "cell_type": "code",
   "execution_count": 33,
   "id": "d3a90bd6-6135-495c-b006-5842599b7c6f",
   "metadata": {},
   "outputs": [
    {
     "name": "stdout",
     "output_type": "stream",
     "text": [
      "Hello\n"
     ]
    }
   ],
   "source": [
    "print(s1)"
   ]
  },
  {
   "cell_type": "code",
   "execution_count": 16,
   "id": "f6a00a67-8981-4cb0-89c8-7e71bbbc34a1",
   "metadata": {},
   "outputs": [
    {
     "data": {
      "text/plain": [
       "'H'"
      ]
     },
     "execution_count": 16,
     "metadata": {},
     "output_type": "execute_result"
    }
   ],
   "source": [
    "s1[0] # is used to access the first character of the string"
   ]
  },
  {
   "cell_type": "code",
   "execution_count": 18,
   "id": "330165c8-3153-4f87-9bda-b0c088926ba9",
   "metadata": {},
   "outputs": [
    {
     "data": {
      "text/plain": [
       "'e'"
      ]
     },
     "execution_count": 18,
     "metadata": {},
     "output_type": "execute_result"
    }
   ],
   "source": [
    "s1[1] # s1[1] → second character (e)"
   ]
  },
  {
   "cell_type": "code",
   "execution_count": 19,
   "id": "470075fe-d2a4-4015-a512-8de8c543af1a",
   "metadata": {},
   "outputs": [
    {
     "data": {
      "text/plain": [
       "'d'"
      ]
     },
     "execution_count": 19,
     "metadata": {},
     "output_type": "execute_result"
    }
   ],
   "source": [
    "s2[-1] # s1[-1] → last character (o)"
   ]
  },
  {
   "cell_type": "code",
   "execution_count": 20,
   "id": "3fafa530-c275-42c9-b442-18f507876e9b",
   "metadata": {},
   "outputs": [
    {
     "name": "stdout",
     "output_type": "stream",
     "text": [
      "Hel\n"
     ]
    }
   ],
   "source": [
    "print(s1[0:3])  # Output: Hel  (from index 0 up to 2)"
   ]
  },
  {
   "cell_type": "code",
   "execution_count": 22,
   "id": "27757ebe-c2c1-40e7-8c40-128ad3287cb5",
   "metadata": {},
   "outputs": [
    {
     "name": "stdout",
     "output_type": "stream",
     "text": [
      "Wor\n"
     ]
    }
   ],
   "source": [
    "print(s2[0:3])  # Output: Wor  (from index 0 up to 2)"
   ]
  },
  {
   "cell_type": "markdown",
   "id": "0e5de12c-fbca-47ab-9089-7e46387dc6fe",
   "metadata": {},
   "source": [
    "### Mutability"
   ]
  },
  {
   "cell_type": "code",
   "execution_count": 23,
   "id": "891464fc-bd4d-4fb9-ab86-b2b20e5ab84f",
   "metadata": {},
   "outputs": [
    {
     "ename": "TypeError",
     "evalue": "'str' object does not support item assignment",
     "output_type": "error",
     "traceback": [
      "\u001b[1;31m---------------------------------------------------------------------------\u001b[0m",
      "\u001b[1;31mTypeError\u001b[0m                                 Traceback (most recent call last)",
      "Cell \u001b[1;32mIn[23], line 1\u001b[0m\n\u001b[1;32m----> 1\u001b[0m s1[\u001b[38;5;241m0\u001b[39m] \u001b[38;5;241m=\u001b[39m\u001b[38;5;124m'\u001b[39m\u001b[38;5;124mS\u001b[39m\u001b[38;5;124m'\u001b[39m\n",
      "\u001b[1;31mTypeError\u001b[0m: 'str' object does not support item assignment"
     ]
    }
   ],
   "source": [
    "s1[0] ='S' # strings are immutable , part of string cannot be changed"
   ]
  },
  {
   "cell_type": "code",
   "execution_count": 24,
   "id": "f80263f7-8a4f-4d24-b0ec-86936c5eb4a8",
   "metadata": {},
   "outputs": [
    {
     "name": "stdout",
     "output_type": "stream",
     "text": [
      "Hi\n"
     ]
    }
   ],
   "source": [
    "s1 ='Hi'\n",
    "print(s1)  #create or assign a new values to the string variable s1"
   ]
  },
  {
   "cell_type": "markdown",
   "id": "27afaf39-8f06-4229-aab3-06336a632acd",
   "metadata": {},
   "source": [
    "### Duplicates"
   ]
  },
  {
   "cell_type": "code",
   "execution_count": 25,
   "id": "4441cbee-1bf7-44ab-8498-d7e32cc61563",
   "metadata": {},
   "outputs": [
    {
     "name": "stdout",
     "output_type": "stream",
     "text": [
      "Hi Hi\n"
     ]
    }
   ],
   "source": [
    "s1 ='Hi Hi' \n",
    "print(s1)"
   ]
  },
  {
   "cell_type": "markdown",
   "id": "6d000826-ca53-4148-af20-0af8b4c9ce2f",
   "metadata": {},
   "source": [
    "### Indexing"
   ]
  },
  {
   "cell_type": "code",
   "execution_count": 27,
   "id": "018a298b-f8de-48a0-8d39-32ac9906b33e",
   "metadata": {},
   "outputs": [
    {
     "name": "stdout",
     "output_type": "stream",
     "text": [
      "World W o d\n"
     ]
    }
   ],
   "source": [
    "print(s2, s2[0], s2[1], s2[4])   "
   ]
  },
  {
   "cell_type": "markdown",
   "id": "f6056407-bf7d-4b31-83e5-31d4956b6c4e",
   "metadata": {},
   "source": [
    "### Concatenate\n",
    "- In Python, concatenation means joining two or more strings together. Since strings are immutable, concatenation creates a new string."
   ]
  },
  {
   "cell_type": "code",
   "execution_count": 36,
   "id": "798fb1a1-dd75-42fb-9d0d-53ee28511a67",
   "metadata": {},
   "outputs": [],
   "source": [
    "s1 = 'Hello'\n",
    "s2 = \"World\"\n",
    "s3 = '''This is\n",
    "a multi-line\n",
    "string.'''\n",
    "s4 = \"\"\"Another\n",
    "multi-line string.\"\"\""
   ]
  },
  {
   "cell_type": "code",
   "execution_count": 34,
   "id": "f0d5ff16-f414-4d58-83d9-b9e0e9c42b31",
   "metadata": {},
   "outputs": [],
   "source": [
    "s =  s1 + \" \" + s2 + \" \" + s3 + \" \" +s4"
   ]
  },
  {
   "cell_type": "code",
   "execution_count": 37,
   "id": "6f4e8b74-a6ad-4361-948d-c790d1fb7fd7",
   "metadata": {},
   "outputs": [
    {
     "data": {
      "text/plain": [
       "'Hello World This is\\na multi-line\\nstring. Another\\nmulti-line string.'"
      ]
     },
     "execution_count": 37,
     "metadata": {},
     "output_type": "execute_result"
    }
   ],
   "source": [
    "s # Use print(s) to see the string with actual line breaks."
   ]
  },
  {
   "cell_type": "code",
   "execution_count": 35,
   "id": "b6b6b578-7fea-4fd8-ac9b-f339c87a67b0",
   "metadata": {},
   "outputs": [
    {
     "name": "stdout",
     "output_type": "stream",
     "text": [
      "Hello World This is\n",
      "a multi-line\n",
      "string. Another\n",
      "multi-line string.\n"
     ]
    }
   ],
   "source": [
    "print(s)"
   ]
  },
  {
   "cell_type": "code",
   "execution_count": 38,
   "id": "ff077e42-27c1-40d6-ab92-307ca40ba167",
   "metadata": {},
   "outputs": [
    {
     "data": {
      "text/plain": [
       "'WORLD'"
      ]
     },
     "execution_count": 38,
     "metadata": {},
     "output_type": "execute_result"
    }
   ],
   "source": [
    "s2.upper() # uppercase"
   ]
  },
  {
   "cell_type": "code",
   "execution_count": 39,
   "id": "05db8851-c776-4d0f-87dd-1673d2e2cf56",
   "metadata": {},
   "outputs": [
    {
     "data": {
      "text/plain": [
       "'world'"
      ]
     },
     "execution_count": 39,
     "metadata": {},
     "output_type": "execute_result"
    }
   ],
   "source": [
    "s2.lower() # lowercase"
   ]
  },
  {
   "cell_type": "code",
   "execution_count": 40,
   "id": "533d35ec-9b39-4ca9-9797-231e09b3582b",
   "metadata": {},
   "outputs": [
    {
     "data": {
      "text/plain": [
       "False"
      ]
     },
     "execution_count": 40,
     "metadata": {},
     "output_type": "execute_result"
    }
   ],
   "source": [
    "s1.isdigit()"
   ]
  },
  {
   "cell_type": "code",
   "execution_count": 41,
   "id": "fcffcf52-b7ec-420a-9038-23bed4097672",
   "metadata": {},
   "outputs": [
    {
     "data": {
      "text/plain": [
       "str"
      ]
     },
     "execution_count": 41,
     "metadata": {},
     "output_type": "execute_result"
    }
   ],
   "source": [
    "type(s1)"
   ]
  },
  {
   "cell_type": "code",
   "execution_count": 42,
   "id": "a5213125-569c-4f5d-9b48-b6ab5c1176d0",
   "metadata": {},
   "outputs": [
    {
     "data": {
      "text/plain": [
       "str"
      ]
     },
     "execution_count": 42,
     "metadata": {},
     "output_type": "execute_result"
    }
   ],
   "source": [
    "type(s)"
   ]
  },
  {
   "cell_type": "code",
   "execution_count": 43,
   "id": "9d485616-f81c-4e69-ba52-a671ff4ad63e",
   "metadata": {},
   "outputs": [
    {
     "name": "stdout",
     "output_type": "stream",
     "text": [
      "['__add__', '__class__', '__contains__', '__delattr__', '__dir__', '__doc__', '__eq__', '__format__', '__ge__', '__getattribute__', '__getitem__', '__getnewargs__', '__getstate__', '__gt__', '__hash__', '__init__', '__init_subclass__', '__iter__', '__le__', '__len__', '__lt__', '__mod__', '__mul__', '__ne__', '__new__', '__reduce__', '__reduce_ex__', '__repr__', '__rmod__', '__rmul__', '__setattr__', '__sizeof__', '__str__', '__subclasshook__', 'capitalize', 'casefold', 'center', 'count', 'encode', 'endswith', 'expandtabs', 'find', 'format', 'format_map', 'index', 'isalnum', 'isalpha', 'isascii', 'isdecimal', 'isdigit', 'isidentifier', 'islower', 'isnumeric', 'isprintable', 'isspace', 'istitle', 'isupper', 'join', 'ljust', 'lower', 'lstrip', 'maketrans', 'partition', 'removeprefix', 'removesuffix', 'replace', 'rfind', 'rindex', 'rjust', 'rpartition', 'rsplit', 'rstrip', 'split', 'splitlines', 'startswith', 'strip', 'swapcase', 'title', 'translate', 'upper', 'zfill']\n"
     ]
    }
   ],
   "source": [
    "print(dir(s1))"
   ]
  },
  {
   "cell_type": "code",
   "execution_count": null,
   "id": "7b136f37-8a5c-4fa1-9c96-9ff6ddabcb8c",
   "metadata": {},
   "outputs": [],
   "source": []
  }
 ],
 "metadata": {
  "kernelspec": {
   "display_name": "Python 3 (ipykernel)",
   "language": "python",
   "name": "python3"
  },
  "language_info": {
   "codemirror_mode": {
    "name": "ipython",
    "version": 3
   },
   "file_extension": ".py",
   "mimetype": "text/x-python",
   "name": "python",
   "nbconvert_exporter": "python",
   "pygments_lexer": "ipython3",
   "version": "3.13.5"
  }
 },
 "nbformat": 4,
 "nbformat_minor": 5
}
