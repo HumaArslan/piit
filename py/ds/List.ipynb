{
 "cells": [
  {
   "cell_type": "markdown",
   "id": "c474b439-038d-4c90-9229-724edc911ccc",
   "metadata": {},
   "source": [
    "# List\n"
   ]
  },
  {
   "cell_type": "raw",
   "id": "b4330eb0-73f4-46a1-86c3-1de75494d871",
   "metadata": {},
   "source": [
    "# List Python - Interpreted Language - Line by Line "
   ]
  },
  {
   "cell_type": "raw",
   "id": "fe93bb21-0149-4d82-9652-9ad4915dc1b0",
   "metadata": {},
   "source": [
    "# Run a line (Execute) - Shift + Enter"
   ]
  },
  {
   "cell_type": "markdown",
   "id": "d63a9f1a-65a8-42df-ac9e-27e304ea0a84",
   "metadata": {},
   "source": [
    "## 1st List"
   ]
  },
  {
   "cell_type": "code",
   "execution_count": 28,
   "id": "6367a586-8316-49a4-b906-88cafd2cfa88",
   "metadata": {},
   "outputs": [],
   "source": [
    "x=[1, 2, 3, \"PIIT\", 5, 6, 7,8, \"Student\"]"
   ]
  },
  {
   "cell_type": "code",
   "execution_count": 29,
   "id": "ef1da190-a16f-43c1-bff1-bfb977a684b5",
   "metadata": {},
   "outputs": [
    {
     "data": {
      "text/plain": [
       "[1, 2, 3, 'PIIT', 5, 6, 7, 8, 'Student']"
      ]
     },
     "execution_count": 29,
     "metadata": {},
     "output_type": "execute_result"
    }
   ],
   "source": [
    "x"
   ]
  },
  {
   "cell_type": "markdown",
   "id": "3c63273d-fcd5-4c52-bda2-39f4ff2ed663",
   "metadata": {},
   "source": [
    "## 2st List"
   ]
  },
  {
   "cell_type": "code",
   "execution_count": 30,
   "id": "aebde036-7543-47e5-ad86-a15c1d7a9dc5",
   "metadata": {},
   "outputs": [],
   "source": [
    "x1=[7, 9, 3, \"Class\", 11, 12, 13]"
   ]
  },
  {
   "cell_type": "code",
   "execution_count": 31,
   "id": "9c3671e3-2537-418c-ba3d-0f156f9a0729",
   "metadata": {},
   "outputs": [
    {
     "data": {
      "text/plain": [
       "[7, 9, 3, 'Class', 11, 12, 13]"
      ]
     },
     "execution_count": 31,
     "metadata": {},
     "output_type": "execute_result"
    }
   ],
   "source": [
    "x1"
   ]
  },
  {
   "cell_type": "code",
   "execution_count": 5,
   "id": "d7ffb152-7943-45a0-b7fc-23eb36487dac",
   "metadata": {},
   "outputs": [
    {
     "name": "stdout",
     "output_type": "stream",
     "text": [
      "[7, 9, 3, 'Class', 11, 12, 13]\n"
     ]
    }
   ],
   "source": [
    "print(x1)"
   ]
  },
  {
   "cell_type": "code",
   "execution_count": 6,
   "id": "889f421f-242d-4299-865b-255ab59e5155",
   "metadata": {},
   "outputs": [
    {
     "data": {
      "text/plain": [
       "list"
      ]
     },
     "execution_count": 6,
     "metadata": {},
     "output_type": "execute_result"
    }
   ],
   "source": [
    "type(x1)"
   ]
  },
  {
   "cell_type": "markdown",
   "id": "236b89bc-f4f5-434f-9600-6e2f96d42024",
   "metadata": {},
   "source": [
    "## Lenght of the List"
   ]
  },
  {
   "cell_type": "code",
   "execution_count": 7,
   "id": "691caf97-09f4-466e-bf64-d4cbb026934f",
   "metadata": {},
   "outputs": [
    {
     "data": {
      "text/plain": [
       "7"
      ]
     },
     "execution_count": 7,
     "metadata": {},
     "output_type": "execute_result"
    }
   ],
   "source": [
    "len(x1)"
   ]
  },
  {
   "cell_type": "code",
   "execution_count": 8,
   "id": "6805bc50-a6cd-4f64-af8e-da5304ba6b93",
   "metadata": {},
   "outputs": [
    {
     "data": {
      "text/plain": [
       "9"
      ]
     },
     "execution_count": 8,
     "metadata": {},
     "output_type": "execute_result"
    }
   ],
   "source": [
    "len(x)"
   ]
  },
  {
   "cell_type": "markdown",
   "id": "fe308288-cd0b-47ff-b863-2203e15ebc9c",
   "metadata": {},
   "source": [
    "## Ordered"
   ]
  },
  {
   "cell_type": "code",
   "execution_count": 9,
   "id": "1050eef2-2d15-4efb-bf58-430fa22fce08",
   "metadata": {},
   "outputs": [
    {
     "data": {
      "text/plain": [
       "7"
      ]
     },
     "execution_count": 9,
     "metadata": {},
     "output_type": "execute_result"
    }
   ],
   "source": [
    "x1[0]"
   ]
  },
  {
   "cell_type": "code",
   "execution_count": 10,
   "id": "81baed5a-4348-47ad-bbd0-fa1fec8e8cad",
   "metadata": {},
   "outputs": [
    {
     "data": {
      "text/plain": [
       "3"
      ]
     },
     "execution_count": 10,
     "metadata": {},
     "output_type": "execute_result"
    }
   ],
   "source": [
    "x[2]"
   ]
  },
  {
   "cell_type": "markdown",
   "id": "90b66d94-46ca-4f88-af4d-6993071eeb4a",
   "metadata": {},
   "source": [
    "## Change Value /Mutable"
   ]
  },
  {
   "cell_type": "code",
   "execution_count": 11,
   "id": "74673cf5-d1ee-48ea-abd1-dfcace93d20d",
   "metadata": {},
   "outputs": [],
   "source": [
    "x[2]='8'"
   ]
  },
  {
   "cell_type": "code",
   "execution_count": 59,
   "id": "d92d2dc5-1aca-49a5-ba6d-4abc819a288e",
   "metadata": {},
   "outputs": [
    {
     "name": "stdout",
     "output_type": "stream",
     "text": [
      "[1, 2, 3, 'PIIT', 5, 6, 7, 8, 'Student']\n"
     ]
    }
   ],
   "source": [
    "print(x)"
   ]
  },
  {
   "cell_type": "markdown",
   "id": "f37bb2dc-4bad-40d0-a0d0-193e94a2857a",
   "metadata": {},
   "source": [
    "x1[1]='11'"
   ]
  },
  {
   "cell_type": "code",
   "execution_count": 60,
   "id": "4b3955d7-e187-44c1-859e-e7074693e556",
   "metadata": {},
   "outputs": [
    {
     "data": {
      "text/plain": [
       "[3, 7, 9, 'Class', 11, 12, 13]"
      ]
     },
     "execution_count": 60,
     "metadata": {},
     "output_type": "execute_result"
    }
   ],
   "source": [
    "x1"
   ]
  },
  {
   "cell_type": "markdown",
   "id": "9c6b0ed7-cc66-475f-bd46-707f8047a8d4",
   "metadata": {},
   "source": [
    "## Duplicate"
   ]
  },
  {
   "cell_type": "code",
   "execution_count": null,
   "id": "1c3d57f4-c66e-4d1c-8278-5dd4224fc909",
   "metadata": {},
   "outputs": [],
   "source": []
  },
  {
   "cell_type": "code",
   "execution_count": null,
   "id": "262fe6cb-f6f7-4858-97b1-5d25e44269e3",
   "metadata": {},
   "outputs": [],
   "source": []
  },
  {
   "cell_type": "markdown",
   "id": "639eb899-8c7c-4429-9956-e3c0da81aabe",
   "metadata": {},
   "source": [
    "## Append"
   ]
  },
  {
   "cell_type": "code",
   "execution_count": 14,
   "id": "18de150b-b040-442e-beba-6dc5656b4016",
   "metadata": {},
   "outputs": [],
   "source": [
    "x.append(6)"
   ]
  },
  {
   "cell_type": "code",
   "execution_count": 15,
   "id": "8f1fe27e-638f-4155-84d6-73d83664fd37",
   "metadata": {},
   "outputs": [
    {
     "data": {
      "text/plain": [
       "[1, 2, '8', 'PIIT', 5, 6, 7, 8, 'Student', 6]"
      ]
     },
     "execution_count": 15,
     "metadata": {},
     "output_type": "execute_result"
    }
   ],
   "source": [
    "x"
   ]
  },
  {
   "cell_type": "markdown",
   "id": "eaf34b0f-02cf-4968-aa3a-19369cacfa2f",
   "metadata": {},
   "source": [
    "x1.append('RollNo')"
   ]
  },
  {
   "cell_type": "code",
   "execution_count": 16,
   "id": "b47e49d2-5b6a-47e7-bf90-bb2826478ba4",
   "metadata": {},
   "outputs": [
    {
     "data": {
      "text/plain": [
       "[7, 9, 3, 'Class', 11, 12, 13]"
      ]
     },
     "execution_count": 16,
     "metadata": {},
     "output_type": "execute_result"
    }
   ],
   "source": [
    "x1"
   ]
  },
  {
   "cell_type": "markdown",
   "id": "a7a4b05a-9a88-4e58-88c8-abbe7612a163",
   "metadata": {},
   "source": [
    "## Insert"
   ]
  },
  {
   "cell_type": "code",
   "execution_count": 17,
   "id": "4a2a0dea-a66c-43e8-99e2-6dbbe0c04151",
   "metadata": {},
   "outputs": [],
   "source": [
    "x.insert(0,'0')"
   ]
  },
  {
   "cell_type": "code",
   "execution_count": 18,
   "id": "5beb4313-93e2-4c53-b9cb-9e35adfafa4f",
   "metadata": {},
   "outputs": [
    {
     "data": {
      "text/plain": [
       "['0', 1, 2, '8', 'PIIT', 5, 6, 7, 8, 'Student', 6]"
      ]
     },
     "execution_count": 18,
     "metadata": {},
     "output_type": "execute_result"
    }
   ],
   "source": [
    "x"
   ]
  },
  {
   "cell_type": "markdown",
   "id": "c330af9c-a7a7-43a8-8163-51f4a757da0d",
   "metadata": {},
   "source": [
    "x1.insert(5,'Course')"
   ]
  },
  {
   "cell_type": "code",
   "execution_count": 19,
   "id": "f0cd295c-96da-4d0d-a142-479352d7be2a",
   "metadata": {},
   "outputs": [
    {
     "data": {
      "text/plain": [
       "[7, 9, 3, 'Class', 11, 12, 13]"
      ]
     },
     "execution_count": 19,
     "metadata": {},
     "output_type": "execute_result"
    }
   ],
   "source": [
    "x1"
   ]
  },
  {
   "cell_type": "markdown",
   "id": "2caa7dfc-699c-4f79-b581-c60bc7168214",
   "metadata": {},
   "source": [
    "## Reverse"
   ]
  },
  {
   "cell_type": "code",
   "execution_count": 20,
   "id": "c6b8d417-1e78-47de-ae3d-021261021b94",
   "metadata": {},
   "outputs": [],
   "source": [
    "x.reverse()"
   ]
  },
  {
   "cell_type": "code",
   "execution_count": 21,
   "id": "74d1f9b4-76ab-49a7-b6aa-5b579d5e60e1",
   "metadata": {},
   "outputs": [
    {
     "data": {
      "text/plain": [
       "[6, 'Student', 8, 7, 6, 5, 'PIIT', '8', 2, 1, '0']"
      ]
     },
     "execution_count": 21,
     "metadata": {},
     "output_type": "execute_result"
    }
   ],
   "source": [
    "x"
   ]
  },
  {
   "cell_type": "markdown",
   "id": "ee7c9bd2-0f37-4f38-acef-3f755f69ad2a",
   "metadata": {},
   "source": [
    "## Count"
   ]
  },
  {
   "cell_type": "code",
   "execution_count": 22,
   "id": "b95afb97-a5a6-423a-9bbd-ba06c911d0d3",
   "metadata": {},
   "outputs": [
    {
     "data": {
      "text/plain": [
       "[6, 'Student', 8, 7, 6, 5, 'PIIT', '8', 2, 1, '0']"
      ]
     },
     "execution_count": 22,
     "metadata": {},
     "output_type": "execute_result"
    }
   ],
   "source": [
    "x"
   ]
  },
  {
   "cell_type": "code",
   "execution_count": 23,
   "id": "f7fe97ad-4061-42b4-9b43-ef3cf602420f",
   "metadata": {},
   "outputs": [
    {
     "data": {
      "text/plain": [
       "2"
      ]
     },
     "execution_count": 23,
     "metadata": {},
     "output_type": "execute_result"
    }
   ],
   "source": [
    "x.count(6)"
   ]
  },
  {
   "cell_type": "markdown",
   "id": "a507d4c7-c856-4856-8220-1f8bed32b244",
   "metadata": {},
   "source": [
    "## Remove"
   ]
  },
  {
   "cell_type": "code",
   "execution_count": 24,
   "id": "764397b2-3fc6-4f84-8296-5a7fc7097955",
   "metadata": {},
   "outputs": [],
   "source": [
    "x.remove(8)"
   ]
  },
  {
   "cell_type": "code",
   "execution_count": 25,
   "id": "d05c28f4-3225-458a-b773-9071955b06b9",
   "metadata": {},
   "outputs": [
    {
     "data": {
      "text/plain": [
       "[6, 'Student', 7, 6, 5, 'PIIT', '8', 2, 1, '0']"
      ]
     },
     "execution_count": 25,
     "metadata": {},
     "output_type": "execute_result"
    }
   ],
   "source": [
    "x"
   ]
  },
  {
   "cell_type": "markdown",
   "id": "b6b72478-7de9-45f8-888e-e8b770ad8919",
   "metadata": {},
   "source": [
    "## Sort"
   ]
  },
  {
   "cell_type": "code",
   "execution_count": 26,
   "id": "680debd9-3a03-4041-9d98-e4c30f3c209e",
   "metadata": {},
   "outputs": [
    {
     "data": {
      "text/plain": [
       "<function list.sort(*, key=None, reverse=False)>"
      ]
     },
     "execution_count": 26,
     "metadata": {},
     "output_type": "execute_result"
    }
   ],
   "source": [
    "x1.sort"
   ]
  },
  {
   "cell_type": "code",
   "execution_count": 62,
   "id": "39bfa042-f9b1-45ae-b00d-ba8f008bf7e7",
   "metadata": {},
   "outputs": [],
   "source": [
    "x1_list = list(x1)"
   ]
  },
  {
   "cell_type": "code",
   "execution_count": 66,
   "id": "20c5d85b-e9f3-448d-b3fc-723e6ebdc342",
   "metadata": {},
   "outputs": [
    {
     "ename": "NameError",
     "evalue": "name 'custom_sort_key' is not defined",
     "output_type": "error",
     "traceback": [
      "\u001b[1;31m---------------------------------------------------------------------------\u001b[0m",
      "\u001b[1;31mNameError\u001b[0m                                 Traceback (most recent call last)",
      "Cell \u001b[1;32mIn[66], line 1\u001b[0m\n\u001b[1;32m----> 1\u001b[0m sorted_x1 \u001b[38;5;241m=\u001b[39m \u001b[38;5;28msorted\u001b[39m(x1_list, key\u001b[38;5;241m=\u001b[39mcustom_sort_key)\n",
      "\u001b[1;31mNameError\u001b[0m: name 'custom_sort_key' is not defined"
     ]
    }
   ],
   "source": [
    "sorted_x1 = sorted(x1_list, key=custom_sort_key)"
   ]
  },
  {
   "cell_type": "code",
   "execution_count": null,
   "id": "01022163-0885-46de-8a70-899fd8470db3",
   "metadata": {},
   "outputs": [],
   "source": []
  },
  {
   "cell_type": "markdown",
   "id": "b32f4dc3-42f3-468a-ad2d-ee43a96265c3",
   "metadata": {},
   "source": [
    "## Pop"
   ]
  },
  {
   "cell_type": "code",
   "execution_count": null,
   "id": "57477cc6-a21b-4999-bf79-528afef5277b",
   "metadata": {},
   "outputs": [],
   "source": [
    "x1.pop(0)"
   ]
  },
  {
   "cell_type": "code",
   "execution_count": null,
   "id": "736cc42c-bd5f-4732-8797-973659ab244d",
   "metadata": {},
   "outputs": [],
   "source": [
    "x1"
   ]
  },
  {
   "cell_type": "markdown",
   "id": "b1223457-128f-4545-b20a-d8da045a2a89",
   "metadata": {},
   "source": [
    "## List 3"
   ]
  },
  {
   "cell_type": "code",
   "execution_count": 33,
   "id": "c4a77714-b64e-4f46-b038-29a40d0bae55",
   "metadata": {},
   "outputs": [],
   "source": [
    "x2=[4,8,2,6,12,10]"
   ]
  },
  {
   "cell_type": "code",
   "execution_count": 34,
   "id": "9d940983-e899-4514-888e-42802ba2471d",
   "metadata": {},
   "outputs": [
    {
     "data": {
      "text/plain": [
       "[4, 8, 2, 6, 12, 10]"
      ]
     },
     "execution_count": 34,
     "metadata": {},
     "output_type": "execute_result"
    }
   ],
   "source": [
    "x2"
   ]
  },
  {
   "cell_type": "code",
   "execution_count": 35,
   "id": "84231a17-9eed-4dca-b0cd-198556e208df",
   "metadata": {},
   "outputs": [],
   "source": [
    "x2.sort()"
   ]
  },
  {
   "cell_type": "code",
   "execution_count": 36,
   "id": "41591ac2-81e0-4790-a585-ce71e046cbe3",
   "metadata": {},
   "outputs": [
    {
     "data": {
      "text/plain": [
       "[2, 4, 6, 8, 10, 12]"
      ]
     },
     "execution_count": 36,
     "metadata": {},
     "output_type": "execute_result"
    }
   ],
   "source": [
    "x2"
   ]
  },
  {
   "cell_type": "code",
   "execution_count": 37,
   "id": "75b4a5ce-6d9d-4383-8d3b-0c290d879591",
   "metadata": {},
   "outputs": [
    {
     "data": {
      "text/plain": [
       "[2, 4, 6, 8, 10, 12]"
      ]
     },
     "execution_count": 37,
     "metadata": {},
     "output_type": "execute_result"
    }
   ],
   "source": [
    "sorted(x2, reverse=False)"
   ]
  },
  {
   "cell_type": "code",
   "execution_count": 38,
   "id": "555757d1-ca75-494f-bf9b-fc023268c301",
   "metadata": {},
   "outputs": [
    {
     "data": {
      "text/plain": [
       "[12, 10, 8, 6, 4, 2]"
      ]
     },
     "execution_count": 38,
     "metadata": {},
     "output_type": "execute_result"
    }
   ],
   "source": [
    "sorted(x2, reverse=True)"
   ]
  },
  {
   "cell_type": "markdown",
   "id": "28849bb2-1ec7-47c4-88a9-b4160dfac404",
   "metadata": {},
   "source": [
    "## Index"
   ]
  },
  {
   "cell_type": "code",
   "execution_count": 40,
   "id": "291dc251-b945-47c0-a1c6-07cdf398a48b",
   "metadata": {},
   "outputs": [
    {
     "data": {
      "text/plain": [
       "[3, 7, 9, 'Class', 11, 12, 13]"
      ]
     },
     "execution_count": 40,
     "metadata": {},
     "output_type": "execute_result"
    }
   ],
   "source": [
    "x1"
   ]
  },
  {
   "cell_type": "code",
   "execution_count": 41,
   "id": "04bd3c9a-4221-4610-a5a4-7c04313cbae2",
   "metadata": {},
   "outputs": [
    {
     "data": {
      "text/plain": [
       "3"
      ]
     },
     "execution_count": 41,
     "metadata": {},
     "output_type": "execute_result"
    }
   ],
   "source": [
    "x1.index('Class')"
   ]
  },
  {
   "cell_type": "code",
   "execution_count": 42,
   "id": "e3957489-7923-4923-a25f-2362524eb061",
   "metadata": {},
   "outputs": [],
   "source": [
    "x2.sort(reverse=True)"
   ]
  },
  {
   "cell_type": "code",
   "execution_count": 43,
   "id": "ce2ce0b9-34a5-43d7-b74c-52dd4e8a881b",
   "metadata": {},
   "outputs": [
    {
     "data": {
      "text/plain": [
       "[12, 10, 8, 6, 4, 2]"
      ]
     },
     "execution_count": 43,
     "metadata": {},
     "output_type": "execute_result"
    }
   ],
   "source": [
    "x2"
   ]
  },
  {
   "cell_type": "code",
   "execution_count": 44,
   "id": "fc7fae36-24a1-4717-9d31-279bcf11d781",
   "metadata": {},
   "outputs": [],
   "source": [
    "x2.sort(reverse=False)"
   ]
  },
  {
   "cell_type": "code",
   "execution_count": 45,
   "id": "f9c8a482-3406-4464-966d-b7507f4ed774",
   "metadata": {},
   "outputs": [
    {
     "data": {
      "text/plain": [
       "[2, 4, 6, 8, 10, 12]"
      ]
     },
     "execution_count": 45,
     "metadata": {},
     "output_type": "execute_result"
    }
   ],
   "source": [
    "x2"
   ]
  },
  {
   "cell_type": "markdown",
   "id": "152811b4-74f3-4d8b-8e6e-d441d4631195",
   "metadata": {},
   "source": [
    "## stack"
   ]
  },
  {
   "cell_type": "code",
   "execution_count": 46,
   "id": "b615aa9d-3e8c-4621-9228-5ba8d7252c8e",
   "metadata": {},
   "outputs": [],
   "source": [
    "stack=[1,2,3,4,5]"
   ]
  },
  {
   "cell_type": "code",
   "execution_count": 47,
   "id": "2b333168-5a7c-4b4f-9898-ab213535f08a",
   "metadata": {},
   "outputs": [],
   "source": [
    "stack.append(6)"
   ]
  },
  {
   "cell_type": "code",
   "execution_count": 48,
   "id": "92dfa415-a787-44dc-85fa-1d254869f06b",
   "metadata": {},
   "outputs": [],
   "source": [
    "stack.append(7)"
   ]
  },
  {
   "cell_type": "code",
   "execution_count": 49,
   "id": "67c0956e-e69d-4e50-9f28-aeb9bb5ee8a5",
   "metadata": {},
   "outputs": [
    {
     "data": {
      "text/plain": [
       "[1, 2, 3, 4, 5, 6, 7]"
      ]
     },
     "execution_count": 49,
     "metadata": {},
     "output_type": "execute_result"
    }
   ],
   "source": [
    "stack"
   ]
  },
  {
   "cell_type": "code",
   "execution_count": 50,
   "id": "b3f28e0b-ef2a-4432-bc43-87a1da6d8efd",
   "metadata": {},
   "outputs": [],
   "source": [
    "stack.append(9)"
   ]
  },
  {
   "cell_type": "code",
   "execution_count": 51,
   "id": "aec94115-3fd7-49b5-af82-c3dcd08b65ba",
   "metadata": {},
   "outputs": [
    {
     "data": {
      "text/plain": [
       "[1, 2, 3, 4, 5, 6, 7, 9]"
      ]
     },
     "execution_count": 51,
     "metadata": {},
     "output_type": "execute_result"
    }
   ],
   "source": [
    "stack"
   ]
  },
  {
   "cell_type": "code",
   "execution_count": 52,
   "id": "496f2768-8fce-4022-9b30-78bb5ed6395d",
   "metadata": {},
   "outputs": [
    {
     "data": {
      "text/plain": [
       "5"
      ]
     },
     "execution_count": 52,
     "metadata": {},
     "output_type": "execute_result"
    }
   ],
   "source": [
    "stack.pop(4)"
   ]
  },
  {
   "cell_type": "code",
   "execution_count": 53,
   "id": "b8eefd3b-dd76-439c-b1b6-66c7c3d5e798",
   "metadata": {},
   "outputs": [
    {
     "data": {
      "text/plain": [
       "[1, 2, 3, 4, 6, 7, 9]"
      ]
     },
     "execution_count": 53,
     "metadata": {},
     "output_type": "execute_result"
    }
   ],
   "source": [
    "stack"
   ]
  },
  {
   "cell_type": "markdown",
   "id": "8e6e6eab-c6b6-4a5c-9de8-f92181bb5227",
   "metadata": {},
   "source": [
    "## Print Function"
   ]
  },
  {
   "cell_type": "code",
   "execution_count": 56,
   "id": "24233eb5-2b6d-4444-9d3b-b763d729d47f",
   "metadata": {},
   "outputs": [
    {
     "name": "stdout",
     "output_type": "stream",
     "text": [
      "Hello PIIT Students\n"
     ]
    }
   ],
   "source": [
    "print('Hello PIIT Students')"
   ]
  },
  {
   "cell_type": "code",
   "execution_count": null,
   "id": "176ef71e-37e0-4b38-9778-3c4cacf97b95",
   "metadata": {},
   "outputs": [],
   "source": []
  }
 ],
 "metadata": {
  "kernelspec": {
   "display_name": "Python 3 (ipykernel)",
   "language": "python",
   "name": "python3"
  },
  "language_info": {
   "codemirror_mode": {
    "name": "ipython",
    "version": 3
   },
   "file_extension": ".py",
   "mimetype": "text/x-python",
   "name": "python",
   "nbconvert_exporter": "python",
   "pygments_lexer": "ipython3",
   "version": "3.13.5"
  }
 },
 "nbformat": 4,
 "nbformat_minor": 5
}
