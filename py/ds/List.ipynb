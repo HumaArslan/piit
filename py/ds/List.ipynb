{
 "cells": [
  {
   "cell_type": "markdown",
   "id": "c474b439-038d-4c90-9229-724edc911ccc",
   "metadata": {},
   "source": [
    "# List\n"
   ]
  },
  {
   "cell_type": "code",
   "execution_count": 2,
   "id": "6367a586-8316-49a4-b906-88cafd2cfa88",
   "metadata": {},
   "outputs": [],
   "source": [
    "x=[1, 2, 3, \"PIIT\", 5, 6, 7,8, \"Student\"]"
   ]
  },
  {
   "cell_type": "code",
   "execution_count": 3,
   "id": "ef1da190-a16f-43c1-bff1-bfb977a684b5",
   "metadata": {},
   "outputs": [
    {
     "data": {
      "text/plain": [
       "[1, 2, 3, 'PIIT', 5, 6, 7, 8, 'Student']"
      ]
     },
     "execution_count": 3,
     "metadata": {},
     "output_type": "execute_result"
    }
   ],
   "source": [
    "x"
   ]
  },
  {
   "cell_type": "code",
   "execution_count": null,
   "id": "6177676e-22d5-4d10-b6b3-c35c59f336b8",
   "metadata": {},
   "outputs": [],
   "source": []
  }
 ],
 "metadata": {
  "kernelspec": {
   "display_name": "Python 3 (ipykernel)",
   "language": "python",
   "name": "python3"
  },
  "language_info": {
   "codemirror_mode": {
    "name": "ipython",
    "version": 3
   },
   "file_extension": ".py",
   "mimetype": "text/x-python",
   "name": "python",
   "nbconvert_exporter": "python",
   "pygments_lexer": "ipython3",
   "version": "3.13.5"
  }
 },
 "nbformat": 4,
 "nbformat_minor": 5
}
