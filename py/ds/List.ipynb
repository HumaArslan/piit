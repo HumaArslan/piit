{
 "cells": [
  {
   "cell_type": "markdown",
   "id": "c474b439-038d-4c90-9229-724edc911ccc",
   "metadata": {},
   "source": [
    "# List\n"
   ]
  },
  {
   "cell_type": "code",
   "execution_count": 13,
   "id": "ab537a7b-dee2-4fb1-ab1f-d23256a8fae8",
   "metadata": {},
   "outputs": [],
   "source": [
    "# List Python - Interpreted Language - Line by Line "
   ]
  },
  {
   "cell_type": "code",
   "execution_count": null,
   "id": "9b86fad8-3673-4949-86d2-e9127b0955de",
   "metadata": {},
   "outputs": [],
   "source": [
    "# Run a line (Execute) - Shift + Enter"
   ]
  },
  {
   "cell_type": "markdown",
   "id": "d63a9f1a-65a8-42df-ac9e-27e304ea0a84",
   "metadata": {},
   "source": [
    "## 1st List"
   ]
  },
  {
   "cell_type": "code",
   "execution_count": 34,
   "id": "6367a586-8316-49a4-b906-88cafd2cfa88",
   "metadata": {},
   "outputs": [],
   "source": [
    "x=[1, 2, 3, \"PIIT\", 5, 6, 7,8, \"Student\"]"
   ]
  },
  {
   "cell_type": "code",
   "execution_count": 35,
   "id": "ef1da190-a16f-43c1-bff1-bfb977a684b5",
   "metadata": {},
   "outputs": [
    {
     "data": {
      "text/plain": [
       "[1, 2, 3, 'PIIT', 5, 6, 7, 8, 'Student']"
      ]
     },
     "execution_count": 35,
     "metadata": {},
     "output_type": "execute_result"
    }
   ],
   "source": [
    "x"
   ]
  },
  {
   "cell_type": "markdown",
   "id": "3c63273d-fcd5-4c52-bda2-39f4ff2ed663",
   "metadata": {},
   "source": [
    "## 2st List"
   ]
  },
  {
   "cell_type": "code",
   "execution_count": 16,
   "id": "aebde036-7543-47e5-ad86-a15c1d7a9dc5",
   "metadata": {},
   "outputs": [],
   "source": [
    "x1=[7, 9, 3, \"Class\", 11, 12, 13]"
   ]
  },
  {
   "cell_type": "code",
   "execution_count": 17,
   "id": "9c3671e3-2537-418c-ba3d-0f156f9a0729",
   "metadata": {},
   "outputs": [
    {
     "data": {
      "text/plain": [
       "[7, 9, 3, 'Class', 11, 12, 13]"
      ]
     },
     "execution_count": 17,
     "metadata": {},
     "output_type": "execute_result"
    }
   ],
   "source": [
    "x1"
   ]
  },
  {
   "cell_type": "code",
   "execution_count": 18,
   "id": "d7ffb152-7943-45a0-b7fc-23eb36487dac",
   "metadata": {},
   "outputs": [
    {
     "name": "stdout",
     "output_type": "stream",
     "text": [
      "[7, 9, 3, 'Class', 11, 12, 13]\n"
     ]
    }
   ],
   "source": [
    "print(x1)"
   ]
  },
  {
   "cell_type": "code",
   "execution_count": 19,
   "id": "889f421f-242d-4299-865b-255ab59e5155",
   "metadata": {},
   "outputs": [
    {
     "data": {
      "text/plain": [
       "list"
      ]
     },
     "execution_count": 19,
     "metadata": {},
     "output_type": "execute_result"
    }
   ],
   "source": [
    "type(x1)"
   ]
  },
  {
   "cell_type": "markdown",
   "id": "236b89bc-f4f5-434f-9600-6e2f96d42024",
   "metadata": {},
   "source": [
    "## Lenght of the List"
   ]
  },
  {
   "cell_type": "code",
   "execution_count": 20,
   "id": "691caf97-09f4-466e-bf64-d4cbb026934f",
   "metadata": {},
   "outputs": [
    {
     "data": {
      "text/plain": [
       "7"
      ]
     },
     "execution_count": 20,
     "metadata": {},
     "output_type": "execute_result"
    }
   ],
   "source": [
    "len(x1)"
   ]
  },
  {
   "cell_type": "code",
   "execution_count": 15,
   "id": "6805bc50-a6cd-4f64-af8e-da5304ba6b93",
   "metadata": {},
   "outputs": [
    {
     "data": {
      "text/plain": [
       "6"
      ]
     },
     "execution_count": 15,
     "metadata": {},
     "output_type": "execute_result"
    }
   ],
   "source": [
    "len(x)"
   ]
  },
  {
   "cell_type": "markdown",
   "id": "fe308288-cd0b-47ff-b863-2203e15ebc9c",
   "metadata": {},
   "source": [
    "## Ordered"
   ]
  },
  {
   "cell_type": "code",
   "execution_count": 23,
   "id": "1050eef2-2d15-4efb-bf58-430fa22fce08",
   "metadata": {},
   "outputs": [
    {
     "data": {
      "text/plain": [
       "7"
      ]
     },
     "execution_count": 23,
     "metadata": {},
     "output_type": "execute_result"
    }
   ],
   "source": [
    "x1[0]"
   ]
  },
  {
   "cell_type": "code",
   "execution_count": 24,
   "id": "81baed5a-4348-47ad-bbd0-fa1fec8e8cad",
   "metadata": {},
   "outputs": [
    {
     "data": {
      "text/plain": [
       "3"
      ]
     },
     "execution_count": 24,
     "metadata": {},
     "output_type": "execute_result"
    }
   ],
   "source": [
    "x[2]"
   ]
  },
  {
   "cell_type": "markdown",
   "id": "90b66d94-46ca-4f88-af4d-6993071eeb4a",
   "metadata": {},
   "source": [
    "## Change Value /Mutable"
   ]
  },
  {
   "cell_type": "code",
   "execution_count": 36,
   "id": "74673cf5-d1ee-48ea-abd1-dfcace93d20d",
   "metadata": {},
   "outputs": [],
   "source": [
    "x[2]='8'"
   ]
  },
  {
   "cell_type": "code",
   "execution_count": 37,
   "id": "d92d2dc5-1aca-49a5-ba6d-4abc819a288e",
   "metadata": {},
   "outputs": [
    {
     "name": "stdout",
     "output_type": "stream",
     "text": [
      "[1, 2, '8', 'PIIT', 5, 6, 7, 8, 'Student']\n"
     ]
    }
   ],
   "source": [
    "print(x)"
   ]
  },
  {
   "cell_type": "markdown",
   "id": "f37bb2dc-4bad-40d0-a0d0-193e94a2857a",
   "metadata": {},
   "source": [
    "x1[1]='11'"
   ]
  },
  {
   "cell_type": "code",
   "execution_count": 30,
   "id": "4b3955d7-e187-44c1-859e-e7074693e556",
   "metadata": {},
   "outputs": [
    {
     "data": {
      "text/plain": [
       "[7, '11', 3, 'Class', 11, 12, 13]"
      ]
     },
     "execution_count": 30,
     "metadata": {},
     "output_type": "execute_result"
    }
   ],
   "source": [
    "x1"
   ]
  },
  {
   "cell_type": "markdown",
   "id": "9c6b0ed7-cc66-475f-bd46-707f8047a8d4",
   "metadata": {},
   "source": [
    "## Duplicate"
   ]
  },
  {
   "cell_type": "code",
   "execution_count": null,
   "id": "1c3d57f4-c66e-4d1c-8278-5dd4224fc909",
   "metadata": {},
   "outputs": [],
   "source": []
  },
  {
   "cell_type": "code",
   "execution_count": null,
   "id": "262fe6cb-f6f7-4858-97b1-5d25e44269e3",
   "metadata": {},
   "outputs": [],
   "source": []
  },
  {
   "cell_type": "markdown",
   "id": "639eb899-8c7c-4429-9956-e3c0da81aabe",
   "metadata": {},
   "source": [
    "## Append"
   ]
  },
  {
   "cell_type": "code",
   "execution_count": 38,
   "id": "18de150b-b040-442e-beba-6dc5656b4016",
   "metadata": {},
   "outputs": [],
   "source": [
    "x.append(6)"
   ]
  },
  {
   "cell_type": "code",
   "execution_count": 39,
   "id": "8f1fe27e-638f-4155-84d6-73d83664fd37",
   "metadata": {},
   "outputs": [
    {
     "data": {
      "text/plain": [
       "[1, 2, '8', 'PIIT', 5, 6, 7, 8, 'Student', 6]"
      ]
     },
     "execution_count": 39,
     "metadata": {},
     "output_type": "execute_result"
    }
   ],
   "source": [
    "x"
   ]
  },
  {
   "cell_type": "markdown",
   "id": "eaf34b0f-02cf-4968-aa3a-19369cacfa2f",
   "metadata": {},
   "source": [
    "x1.append('RollNo')"
   ]
  },
  {
   "cell_type": "code",
   "execution_count": 42,
   "id": "b47e49d2-5b6a-47e7-bf90-bb2826478ba4",
   "metadata": {},
   "outputs": [
    {
     "data": {
      "text/plain": [
       "[7, '11', 3, 'Class', 11, 12, 13, 'Roll No']"
      ]
     },
     "execution_count": 42,
     "metadata": {},
     "output_type": "execute_result"
    }
   ],
   "source": [
    "x1"
   ]
  },
  {
   "cell_type": "markdown",
   "id": "a7a4b05a-9a88-4e58-88c8-abbe7612a163",
   "metadata": {},
   "source": [
    "## Insert"
   ]
  },
  {
   "cell_type": "code",
   "execution_count": 44,
   "id": "4a2a0dea-a66c-43e8-99e2-6dbbe0c04151",
   "metadata": {},
   "outputs": [],
   "source": [
    "x.insert(0,'0')"
   ]
  },
  {
   "cell_type": "code",
   "execution_count": 45,
   "id": "5beb4313-93e2-4c53-b9cb-9e35adfafa4f",
   "metadata": {},
   "outputs": [
    {
     "data": {
      "text/plain": [
       "['0', 1, 2, '8', 'PIIT', 5, 6, 7, 8, 'Student', 6]"
      ]
     },
     "execution_count": 45,
     "metadata": {},
     "output_type": "execute_result"
    }
   ],
   "source": [
    "x"
   ]
  },
  {
   "cell_type": "markdown",
   "id": "c330af9c-a7a7-43a8-8163-51f4a757da0d",
   "metadata": {},
   "source": [
    "x1.insert(5,'Course')"
   ]
  },
  {
   "cell_type": "code",
   "execution_count": 50,
   "id": "f0cd295c-96da-4d0d-a142-479352d7be2a",
   "metadata": {},
   "outputs": [
    {
     "data": {
      "text/plain": [
       "[7, '11', 3, 'Class', 11, 'Course', 12, 13, 'Roll No']"
      ]
     },
     "execution_count": 50,
     "metadata": {},
     "output_type": "execute_result"
    }
   ],
   "source": [
    "x1"
   ]
  },
  {
   "cell_type": "markdown",
   "id": "2caa7dfc-699c-4f79-b581-c60bc7168214",
   "metadata": {},
   "source": [
    "## Reverse"
   ]
  },
  {
   "cell_type": "code",
   "execution_count": 51,
   "id": "c6b8d417-1e78-47de-ae3d-021261021b94",
   "metadata": {},
   "outputs": [],
   "source": [
    "x.reverse()"
   ]
  },
  {
   "cell_type": "code",
   "execution_count": 52,
   "id": "74d1f9b4-76ab-49a7-b6aa-5b579d5e60e1",
   "metadata": {},
   "outputs": [
    {
     "data": {
      "text/plain": [
       "[6, 'Student', 8, 7, 6, 5, 'PIIT', '8', 2, 1, '0']"
      ]
     },
     "execution_count": 52,
     "metadata": {},
     "output_type": "execute_result"
    }
   ],
   "source": [
    "x"
   ]
  },
  {
   "cell_type": "markdown",
   "id": "ee7c9bd2-0f37-4f38-acef-3f755f69ad2a",
   "metadata": {},
   "source": [
    "## Count"
   ]
  },
  {
   "cell_type": "code",
   "execution_count": 61,
   "id": "b95afb97-a5a6-423a-9bbd-ba06c911d0d3",
   "metadata": {},
   "outputs": [
    {
     "data": {
      "text/plain": [
       "[6, 'Student', 8, 7, 6, 5, 'PIIT', '8', 2, 1, '0']"
      ]
     },
     "execution_count": 61,
     "metadata": {},
     "output_type": "execute_result"
    }
   ],
   "source": [
    "x"
   ]
  },
  {
   "cell_type": "code",
   "execution_count": 67,
   "id": "f7fe97ad-4061-42b4-9b43-ef3cf602420f",
   "metadata": {},
   "outputs": [
    {
     "data": {
      "text/plain": [
       "2"
      ]
     },
     "execution_count": 67,
     "metadata": {},
     "output_type": "execute_result"
    }
   ],
   "source": [
    "x.count(6)"
   ]
  },
  {
   "cell_type": "markdown",
   "id": "a507d4c7-c856-4856-8220-1f8bed32b244",
   "metadata": {},
   "source": [
    "## Remove"
   ]
  },
  {
   "cell_type": "code",
   "execution_count": 68,
   "id": "764397b2-3fc6-4f84-8296-5a7fc7097955",
   "metadata": {},
   "outputs": [],
   "source": [
    "x.remove(8)"
   ]
  },
  {
   "cell_type": "code",
   "execution_count": 69,
   "id": "d05c28f4-3225-458a-b773-9071955b06b9",
   "metadata": {},
   "outputs": [
    {
     "data": {
      "text/plain": [
       "[6, 'Student', 7, 6, 5, 'PIIT', '8', 2, 1, '0']"
      ]
     },
     "execution_count": 69,
     "metadata": {},
     "output_type": "execute_result"
    }
   ],
   "source": [
    "x"
   ]
  },
  {
   "cell_type": "markdown",
   "id": "b6b72478-7de9-45f8-888e-e8b770ad8919",
   "metadata": {},
   "source": [
    "## Sort"
   ]
  },
  {
   "cell_type": "code",
   "execution_count": 86,
   "id": "680debd9-3a03-4041-9d98-e4c30f3c209e",
   "metadata": {},
   "outputs": [
    {
     "data": {
      "text/plain": [
       "<function list.sort(*, key=None, reverse=False)>"
      ]
     },
     "execution_count": 86,
     "metadata": {},
     "output_type": "execute_result"
    }
   ],
   "source": [
    "x1.sort"
   ]
  },
  {
   "cell_type": "code",
   "execution_count": 96,
   "id": "39bfa042-f9b1-45ae-b00d-ba8f008bf7e7",
   "metadata": {},
   "outputs": [
    {
     "data": {
      "text/plain": [
       "[7, '11', 3, 'Class', 11, 'Course', 12, 13, 'Roll No']"
      ]
     },
     "execution_count": 96,
     "metadata": {},
     "output_type": "execute_result"
    }
   ],
   "source": [
    "x1"
   ]
  },
  {
   "cell_type": "code",
   "execution_count": 97,
   "id": "20c5d85b-e9f3-448d-b3fc-723e6ebdc342",
   "metadata": {},
   "outputs": [
    {
     "ename": "NameError",
     "evalue": "name 'sorted_x1' is not defined",
     "output_type": "error",
     "traceback": [
      "\u001b[1;31m---------------------------------------------------------------------------\u001b[0m",
      "\u001b[1;31mNameError\u001b[0m                                 Traceback (most recent call last)",
      "Cell \u001b[1;32mIn[97], line 1\u001b[0m\n\u001b[1;32m----> 1\u001b[0m sorted_x1\n",
      "\u001b[1;31mNameError\u001b[0m: name 'sorted_x1' is not defined"
     ]
    }
   ],
   "source": []
  },
  {
   "cell_type": "code",
   "execution_count": null,
   "id": "01022163-0885-46de-8a70-899fd8470db3",
   "metadata": {},
   "outputs": [],
   "source": []
  },
  {
   "cell_type": "markdown",
   "id": "b32f4dc3-42f3-468a-ad2d-ee43a96265c3",
   "metadata": {},
   "source": [
    "## Pop"
   ]
  },
  {
   "cell_type": "code",
   "execution_count": 99,
   "id": "57477cc6-a21b-4999-bf79-528afef5277b",
   "metadata": {},
   "outputs": [
    {
     "data": {
      "text/plain": [
       "7"
      ]
     },
     "execution_count": 99,
     "metadata": {},
     "output_type": "execute_result"
    }
   ],
   "source": [
    "x1.pop(0)"
   ]
  },
  {
   "cell_type": "code",
   "execution_count": 100,
   "id": "736cc42c-bd5f-4732-8797-973659ab244d",
   "metadata": {},
   "outputs": [
    {
     "data": {
      "text/plain": [
       "['11', 3, 'Class', 11, 'Course', 12, 13, 'Roll No']"
      ]
     },
     "execution_count": 100,
     "metadata": {},
     "output_type": "execute_result"
    }
   ],
   "source": [
    "x1"
   ]
  },
  {
   "cell_type": "markdown",
   "id": "b1223457-128f-4545-b20a-d8da045a2a89",
   "metadata": {},
   "source": [
    "## List 3"
   ]
  },
  {
   "cell_type": "code",
   "execution_count": 102,
   "id": "c4a77714-b64e-4f46-b038-29a40d0bae55",
   "metadata": {},
   "outputs": [],
   "source": [
    "x2=[4,8,2,6,12,10]"
   ]
  },
  {
   "cell_type": "code",
   "execution_count": 103,
   "id": "9d940983-e899-4514-888e-42802ba2471d",
   "metadata": {},
   "outputs": [
    {
     "data": {
      "text/plain": [
       "[4, 8, 2, 6, 12, 10]"
      ]
     },
     "execution_count": 103,
     "metadata": {},
     "output_type": "execute_result"
    }
   ],
   "source": [
    "x2"
   ]
  },
  {
   "cell_type": "code",
   "execution_count": 104,
   "id": "84231a17-9eed-4dca-b0cd-198556e208df",
   "metadata": {},
   "outputs": [
    {
     "data": {
      "text/plain": [
       "<function list.sort(*, key=None, reverse=False)>"
      ]
     },
     "execution_count": 104,
     "metadata": {},
     "output_type": "execute_result"
    }
   ],
   "source": [
    "x2.sort"
   ]
  }
 ],
 "metadata": {
  "kernelspec": {
   "display_name": "Python 3 (ipykernel)",
   "language": "python",
   "name": "python3"
  },
  "language_info": {
   "codemirror_mode": {
    "name": "ipython",
    "version": 3
   },
   "file_extension": ".py",
   "mimetype": "text/x-python",
   "name": "python",
   "nbconvert_exporter": "python",
   "pygments_lexer": "ipython3",
   "version": "3.13.5"
  }
 },
 "nbformat": 4,
 "nbformat_minor": 5
}
