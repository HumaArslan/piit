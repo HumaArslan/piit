{
 "cells": [
  {
   "cell_type": "markdown",
   "id": "e6aad34d-3ac3-4b0c-9b09-66d8e411b0f3",
   "metadata": {},
   "source": [
    "# List"
   ]
  },
  {
   "cell_type": "markdown",
   "id": "b85cbbb1-7947-49ed-bdc0-1238e57d671a",
   "metadata": {},
   "source": [
    "# Python - Interpreted langauge - Line by Line"
   ]
  },
  {
   "cell_type": "markdown",
   "id": "37d079eb-6c6b-4087-85fe-6f329bdf301e",
   "metadata": {},
   "source": [
    "# Run a Line (Execute) - Shift + Enter"
   ]
  },
  {
   "cell_type": "markdown",
   "id": "a8b3a155-2eca-46eb-baff-712d97fa42f2",
   "metadata": {},
   "source": [
    "## List 1"
   ]
  },
  {
   "cell_type": "code",
   "execution_count": 29,
   "id": "e7a0c3d5-567e-4b92-995a-39a080bac231",
   "metadata": {},
   "outputs": [],
   "source": [
    "x = [1,2,3,4,5] # Variable which gets stored in Environment"
   ]
  },
  {
   "cell_type": "code",
   "execution_count": 30,
   "id": "1f6777f5-1d9a-4899-958b-63b00039274a",
   "metadata": {},
   "outputs": [
    {
     "data": {
      "text/plain": [
       "[1, 2, 3, 4, 5]"
      ]
     },
     "execution_count": 30,
     "metadata": {},
     "output_type": "execute_result"
    }
   ],
   "source": [
    "x"
   ]
  },
  {
   "cell_type": "code",
   "execution_count": 31,
   "id": "7491ae87-faa0-4b80-8146-4a60261f8689",
   "metadata": {},
   "outputs": [
    {
     "name": "stdout",
     "output_type": "stream",
     "text": [
      "[1, 2, 3, 4, 5]\n"
     ]
    }
   ],
   "source": [
    "print(x)"
   ]
  },
  {
   "cell_type": "code",
   "execution_count": 32,
   "id": "694528c0-5862-46e4-8358-1f4d0e8e652a",
   "metadata": {},
   "outputs": [
    {
     "data": {
      "text/plain": [
       "list"
      ]
     },
     "execution_count": 32,
     "metadata": {},
     "output_type": "execute_result"
    }
   ],
   "source": [
    "type(x)"
   ]
  },
  {
   "cell_type": "markdown",
   "id": "16545cb5-0f35-4df8-8049-97af26b9fbdf",
   "metadata": {},
   "source": [
    "## List 2"
   ]
  },
  {
   "cell_type": "code",
   "execution_count": 33,
   "id": "ddc7d53d-d686-46e4-bba5-2ae76909d468",
   "metadata": {},
   "outputs": [],
   "source": [
    "x1 = [1, 10, 15.67, \"Nayeema\", \"PIIT\", True, 45] #List of mixed data type - no, strings, logical"
   ]
  },
  {
   "cell_type": "code",
   "execution_count": 34,
   "id": "f0695d27-383c-4e0b-8e4c-a5dc474c4f51",
   "metadata": {},
   "outputs": [
    {
     "data": {
      "text/plain": [
       "list"
      ]
     },
     "execution_count": 34,
     "metadata": {},
     "output_type": "execute_result"
    }
   ],
   "source": [
    "type(x1)"
   ]
  },
  {
   "cell_type": "code",
   "execution_count": 35,
   "id": "57201539-47fe-4964-bdb2-74965b53425e",
   "metadata": {},
   "outputs": [
    {
     "name": "stdout",
     "output_type": "stream",
     "text": [
      "[1, 10, 15.67, 'Nayeema', 'PIIT', True, 45]\n"
     ]
    }
   ],
   "source": [
    "print(x1)"
   ]
  },
  {
   "cell_type": "markdown",
   "id": "bf46f603-d32c-4b20-85f5-28f691223fdb",
   "metadata": {},
   "source": [
    "### Length of the list"
   ]
  },
  {
   "cell_type": "code",
   "execution_count": 36,
   "id": "e3efed72-f255-441f-b0d0-5bf059f89c72",
   "metadata": {},
   "outputs": [
    {
     "data": {
      "text/plain": [
       "7"
      ]
     },
     "execution_count": 36,
     "metadata": {},
     "output_type": "execute_result"
    }
   ],
   "source": [
    "len(x1)"
   ]
  },
  {
   "cell_type": "markdown",
   "id": "dc61f9a3-a46b-4c35-a009-f7c9a9b40899",
   "metadata": {},
   "source": [
    "### Ordered\n",
    "- Filter by position"
   ]
  },
  {
   "cell_type": "code",
   "execution_count": 37,
   "id": "ce719278-2787-4019-8ace-83b3884c4505",
   "metadata": {},
   "outputs": [
    {
     "data": {
      "text/plain": [
       "1"
      ]
     },
     "execution_count": 37,
     "metadata": {},
     "output_type": "execute_result"
    }
   ],
   "source": [
    "x1[0] #first position starts from 0 value between square brackets [ index ]"
   ]
  },
  {
   "cell_type": "code",
   "execution_count": 38,
   "id": "36424988-8267-4768-81a8-e79ca91a702c",
   "metadata": {},
   "outputs": [
    {
     "data": {
      "text/plain": [
       "15.67"
      ]
     },
     "execution_count": 38,
     "metadata": {},
     "output_type": "execute_result"
    }
   ],
   "source": [
    "x1[2]"
   ]
  },
  {
   "cell_type": "markdown",
   "id": "2c650e86-cfce-4fa0-8e72-6c3d7fb93741",
   "metadata": {},
   "source": [
    "### Change Value/Mutable"
   ]
  },
  {
   "cell_type": "code",
   "execution_count": 39,
   "id": "dc90ad45-4fff-46da-bc96-31962b3e0e00",
   "metadata": {},
   "outputs": [],
   "source": [
    "x1[5] = 'False' # Assign new value at position 4+1 in variable x1"
   ]
  },
  {
   "cell_type": "code",
   "execution_count": 40,
   "id": "7ae00e6e-2d0f-4106-aef8-d00c8156ca03",
   "metadata": {},
   "outputs": [
    {
     "data": {
      "text/plain": [
       "[1, 10, 15.67, 'Nayeema', 'PIIT', 'False', 45]"
      ]
     },
     "execution_count": 40,
     "metadata": {},
     "output_type": "execute_result"
    }
   ],
   "source": [
    "x1"
   ]
  },
  {
   "cell_type": "code",
   "execution_count": 41,
   "id": "35bf75c2-6c6f-4d66-871d-8723a19cdbd7",
   "metadata": {},
   "outputs": [],
   "source": [
    "x[3]='6'"
   ]
  },
  {
   "cell_type": "code",
   "execution_count": 42,
   "id": "b908f99d-d95c-4b73-8e3e-baf8902e34f1",
   "metadata": {},
   "outputs": [
    {
     "data": {
      "text/plain": [
       "[1, 2, 3, '6', 5]"
      ]
     },
     "execution_count": 42,
     "metadata": {},
     "output_type": "execute_result"
    }
   ],
   "source": [
    "x"
   ]
  },
  {
   "cell_type": "markdown",
   "id": "fee32600-3508-4cdf-ad01-8feda84576ca",
   "metadata": {},
   "source": [
    "## 3rd List"
   ]
  },
  {
   "cell_type": "code",
   "execution_count": 43,
   "id": "5cc5e914-9603-408e-9e08-887364b616e4",
   "metadata": {},
   "outputs": [],
   "source": [
    "x2= x + x1"
   ]
  },
  {
   "cell_type": "code",
   "execution_count": 44,
   "id": "88539acd-1e1b-4d35-b89c-f1f680396c88",
   "metadata": {},
   "outputs": [
    {
     "name": "stdout",
     "output_type": "stream",
     "text": [
      "[1, 2, 3, '6', 5, 1, 10, 15.67, 'Nayeema', 'PIIT', 'False', 45]\n"
     ]
    }
   ],
   "source": [
    "print(x2)"
   ]
  },
  {
   "cell_type": "markdown",
   "id": "c9be5402-d855-4109-8344-7d81452370d7",
   "metadata": {},
   "source": [
    "### Other Functions of the List"
   ]
  },
  {
   "cell_type": "code",
   "execution_count": 45,
   "id": "f3f97abb-30b0-4cd7-8f05-df50dbe6525b",
   "metadata": {},
   "outputs": [],
   "source": [
    "x.append('PIIT') # Add value in the end"
   ]
  },
  {
   "cell_type": "code",
   "execution_count": 46,
   "id": "b3397d09-0611-4463-97ad-7ff37a800363",
   "metadata": {},
   "outputs": [
    {
     "name": "stdout",
     "output_type": "stream",
     "text": [
      "[1, 2, 3, '6', 5, 'PIIT']\n"
     ]
    }
   ],
   "source": [
    "print(x)"
   ]
  },
  {
   "cell_type": "code",
   "execution_count": 47,
   "id": "872722c0-4bb5-42dd-a858-96947c14dabb",
   "metadata": {},
   "outputs": [],
   "source": [
    "x1.append(50)"
   ]
  },
  {
   "cell_type": "code",
   "execution_count": 48,
   "id": "45601683-1681-461d-861e-33764bc866b7",
   "metadata": {},
   "outputs": [
    {
     "name": "stdout",
     "output_type": "stream",
     "text": [
      "[1, 10, 15.67, 'Nayeema', 'PIIT', 'False', 45, 50]\n"
     ]
    }
   ],
   "source": [
    "print(x1)"
   ]
  },
  {
   "cell_type": "code",
   "execution_count": 49,
   "id": "cda463a6-9b72-4c57-aff8-40fc7280c29e",
   "metadata": {},
   "outputs": [],
   "source": [
    "x.insert(2, 'Class') # Add value by position"
   ]
  },
  {
   "cell_type": "code",
   "execution_count": 50,
   "id": "914f485b-c42c-413e-a0fd-d75e8ae00def",
   "metadata": {},
   "outputs": [
    {
     "name": "stdout",
     "output_type": "stream",
     "text": [
      "[1, 2, 'Class', 3, '6', 5, 'PIIT']\n"
     ]
    }
   ],
   "source": [
    "print(x)"
   ]
  },
  {
   "cell_type": "code",
   "execution_count": 51,
   "id": "9204e672-505d-449b-85b3-a200cc913708",
   "metadata": {},
   "outputs": [],
   "source": [
    "x.reverse()"
   ]
  },
  {
   "cell_type": "code",
   "execution_count": 56,
   "id": "a36ffe16-eeb3-4d7c-b8e0-3bc051c7c18e",
   "metadata": {},
   "outputs": [
    {
     "name": "stdout",
     "output_type": "stream",
     "text": [
      "['PIIT', 5, '6', 3, 'Class', 2, 1]\n"
     ]
    }
   ],
   "source": [
    "print(x)"
   ]
  },
  {
   "cell_type": "code",
   "execution_count": 57,
   "id": "e15fac67-d30b-4d8f-be0d-32f7d5be1d14",
   "metadata": {},
   "outputs": [
    {
     "data": {
      "text/plain": [
       "1"
      ]
     },
     "execution_count": 57,
     "metadata": {},
     "output_type": "execute_result"
    }
   ],
   "source": [
    "x.count(2)"
   ]
  },
  {
   "cell_type": "code",
   "execution_count": 58,
   "id": "90324446-d372-4e49-8c74-acad8f221592",
   "metadata": {},
   "outputs": [
    {
     "data": {
      "text/plain": [
       "0"
      ]
     },
     "execution_count": 58,
     "metadata": {},
     "output_type": "execute_result"
    }
   ],
   "source": [
    "x.count(0)"
   ]
  },
  {
   "cell_type": "code",
   "execution_count": 59,
   "id": "3fad4c80-6b38-4f6b-a245-875c08ff2745",
   "metadata": {},
   "outputs": [
    {
     "name": "stdout",
     "output_type": "stream",
     "text": [
      "['PIIT', 5, '6', 3, 'Class', 2, 1]\n"
     ]
    }
   ],
   "source": [
    "print(x)"
   ]
  },
  {
   "cell_type": "code",
   "execution_count": 60,
   "id": "de8d6e99-a7aa-479b-a4ed-5c60be0d67fd",
   "metadata": {},
   "outputs": [],
   "source": [
    "x.remove(2) # Remove value 2"
   ]
  },
  {
   "cell_type": "code",
   "execution_count": 61,
   "id": "d8d7f6f1-7111-4465-b3d9-183b5817b942",
   "metadata": {},
   "outputs": [
    {
     "name": "stdout",
     "output_type": "stream",
     "text": [
      "['PIIT', 5, '6', 3, 'Class', 1]\n"
     ]
    }
   ],
   "source": [
    "print(x)"
   ]
  },
  {
   "cell_type": "code",
   "execution_count": 63,
   "id": "1523ab18-af9e-435b-aade-d2f38580a3b6",
   "metadata": {},
   "outputs": [
    {
     "data": {
      "text/plain": [
       "<function list.sort(*, key=None, reverse=False)>"
      ]
     },
     "execution_count": 63,
     "metadata": {},
     "output_type": "execute_result"
    }
   ],
   "source": [
    "x.sort"
   ]
  },
  {
   "cell_type": "code",
   "execution_count": 64,
   "id": "1724fea0-2593-4a51-9708-7df1c3d9c14f",
   "metadata": {},
   "outputs": [
    {
     "data": {
      "text/plain": [
       "'PIIT'"
      ]
     },
     "execution_count": 64,
     "metadata": {},
     "output_type": "execute_result"
    }
   ],
   "source": [
    "x.pop(0) # Remove by position (value on position 0)"
   ]
  },
  {
   "cell_type": "code",
   "execution_count": 65,
   "id": "3d902521-5d66-4cf8-8f02-720f74068a37",
   "metadata": {},
   "outputs": [
    {
     "name": "stdout",
     "output_type": "stream",
     "text": [
      "[5, '6', 3, 'Class', 1]\n"
     ]
    }
   ],
   "source": [
    "print(x)"
   ]
  },
  {
   "cell_type": "code",
   "execution_count": 67,
   "id": "1247fd90-40ff-4dc3-9253-ba0fdf13c476",
   "metadata": {},
   "outputs": [
    {
     "name": "stdout",
     "output_type": "stream",
     "text": [
      "[1, 10, 15.67, 'Nayeema', 'PIIT', 'False', 45, 50]\n"
     ]
    }
   ],
   "source": [
    "print(x1)"
   ]
  },
  {
   "cell_type": "code",
   "execution_count": 68,
   "id": "dbf91b2b-6821-4d00-9f13-8f6e107b37d9",
   "metadata": {},
   "outputs": [],
   "source": [
    "x.extend(x1)"
   ]
  },
  {
   "cell_type": "code",
   "execution_count": 69,
   "id": "babf5cc2-836c-4afa-8295-f0b5de383f23",
   "metadata": {},
   "outputs": [
    {
     "name": "stdout",
     "output_type": "stream",
     "text": [
      "[5, '6', 3, 'Class', 1, 1, 10, 15.67, 'Nayeema', 'PIIT', 'False', 45, 50, 1, 10, 15.67, 'Nayeema', 'PIIT', 'False', 45, 50]\n"
     ]
    }
   ],
   "source": [
    "print(x)"
   ]
  },
  {
   "cell_type": "code",
   "execution_count": 71,
   "id": "16352544-1753-492a-9220-018d6e9774ec",
   "metadata": {},
   "outputs": [
    {
     "name": "stdout",
     "output_type": "stream",
     "text": [
      "[1, 10, 15.67, 'Nayeema', 'PIIT', 'False', 45, 50]\n"
     ]
    }
   ],
   "source": [
    "print(x1)"
   ]
  },
  {
   "cell_type": "code",
   "execution_count": 72,
   "id": "1f6c6c4a-1e4b-4e50-84c0-ef7bb6f5b106",
   "metadata": {},
   "outputs": [
    {
     "name": "stdout",
     "output_type": "stream",
     "text": [
      "[1, 2, 3, '6', 5, 1, 10, 15.67, 'Nayeema', 'PIIT', 'False', 45]\n"
     ]
    }
   ],
   "source": [
    "print(x2)"
   ]
  },
  {
   "cell_type": "code",
   "execution_count": 78,
   "id": "780b7ce9-354f-4ddf-bdcb-8e75115e01c3",
   "metadata": {},
   "outputs": [],
   "source": [
    "x.clear()"
   ]
  },
  {
   "cell_type": "code",
   "execution_count": 79,
   "id": "26690633-b511-47b4-89cf-71c26f91ba61",
   "metadata": {},
   "outputs": [
    {
     "name": "stdout",
     "output_type": "stream",
     "text": [
      "[]\n"
     ]
    }
   ],
   "source": [
    "print(x)"
   ]
  },
  {
   "cell_type": "code",
   "execution_count": 85,
   "id": "d60cf778-aa79-4448-ae35-59d6a13cdd13",
   "metadata": {},
   "outputs": [],
   "source": [
    "x=x2.copy()"
   ]
  },
  {
   "cell_type": "code",
   "execution_count": 86,
   "id": "b06a7b7b-6c41-4b14-bec5-527fd0769d0d",
   "metadata": {},
   "outputs": [
    {
     "name": "stdout",
     "output_type": "stream",
     "text": [
      "[1, 2, 3, '6', 5, 1, 10, 15.67, 'Nayeema', 'PIIT', 'False', 45]\n"
     ]
    }
   ],
   "source": [
    "print(x)"
   ]
  },
  {
   "cell_type": "code",
   "execution_count": 87,
   "id": "c6fa51ec-351e-46f3-9a7b-0c5e904c15d9",
   "metadata": {},
   "outputs": [
    {
     "data": {
      "text/plain": [
       "11"
      ]
     },
     "execution_count": 87,
     "metadata": {},
     "output_type": "execute_result"
    }
   ],
   "source": [
    "x.index(45)"
   ]
  },
  {
   "cell_type": "code",
   "execution_count": 88,
   "id": "8a20a3e7-e437-4e45-b920-13d1db019bb8",
   "metadata": {},
   "outputs": [
    {
     "data": {
      "text/plain": [
       "0"
      ]
     },
     "execution_count": 88,
     "metadata": {},
     "output_type": "execute_result"
    }
   ],
   "source": [
    "x.index(1)"
   ]
  },
  {
   "cell_type": "code",
   "execution_count": 89,
   "id": "2a6a76d9-f875-48a6-b081-27c2d3738a75",
   "metadata": {},
   "outputs": [
    {
     "name": "stdout",
     "output_type": "stream",
     "text": [
      "[1, 2, 3, '6', 5, 1, 10, 15.67, 'Nayeema', 'PIIT', 'False', 45]\n"
     ]
    }
   ],
   "source": [
    "print(x)"
   ]
  },
  {
   "cell_type": "code",
   "execution_count": 91,
   "id": "50843ab2-f501-4370-9efd-078b4a348ebb",
   "metadata": {},
   "outputs": [
    {
     "name": "stdout",
     "output_type": "stream",
     "text": [
      "[1, 2, 3, '6', 5, 1, 10, 15.67, 'Nayeema', 'PIIT', 'False', 45]\n"
     ]
    }
   ],
   "source": [
    "print(x2)"
   ]
  },
  {
   "cell_type": "code",
   "execution_count": 93,
   "id": "7ad39812-577c-43d5-8a10-28535046ec72",
   "metadata": {},
   "outputs": [
    {
     "name": "stdout",
     "output_type": "stream",
     "text": [
      "[1, 10, 15.67, 'Nayeema', 'PIIT', 'False', 45, 50]\n"
     ]
    }
   ],
   "source": [
    "print(x1)"
   ]
  },
  {
   "cell_type": "code",
   "execution_count": 94,
   "id": "ef151621-790f-466e-bc61-27aa1dc6e648",
   "metadata": {},
   "outputs": [],
   "source": [
    "### List 4"
   ]
  },
  {
   "cell_type": "code",
   "execution_count": 104,
   "id": "6b6457d5-19a6-4795-8a43-b0539254aeb9",
   "metadata": {},
   "outputs": [],
   "source": [
    "x3=[4,7,5,3,1,2,6]"
   ]
  },
  {
   "cell_type": "code",
   "execution_count": 105,
   "id": "fa879e60-4908-49ec-87e1-ae5fe7baea13",
   "metadata": {},
   "outputs": [
    {
     "name": "stdout",
     "output_type": "stream",
     "text": [
      "[4, 7, 5, 3, 1, 2, 6]\n"
     ]
    }
   ],
   "source": [
    "print(x3)"
   ]
  },
  {
   "cell_type": "code",
   "execution_count": 107,
   "id": "c5c4ef0d-2b28-4d82-8f56-9aff48108faa",
   "metadata": {},
   "outputs": [],
   "source": [
    "x3.sort(reverse=False)"
   ]
  },
  {
   "cell_type": "code",
   "execution_count": 108,
   "id": "13d4c041-93eb-411b-988a-e1ad69e24e83",
   "metadata": {},
   "outputs": [
    {
     "name": "stdout",
     "output_type": "stream",
     "text": [
      "[1, 2, 3, 4, 5, 6, 7]\n"
     ]
    }
   ],
   "source": [
    "print(x3)"
   ]
  },
  {
   "cell_type": "code",
   "execution_count": 109,
   "id": "00b253c2-1bea-48bf-9ce2-fc31c511a06f",
   "metadata": {},
   "outputs": [
    {
     "name": "stdout",
     "output_type": "stream",
     "text": [
      "['__add__', '__class__', '__class_getitem__', '__contains__', '__delattr__', '__delitem__', '__dir__', '__doc__', '__eq__', '__format__', '__ge__', '__getattribute__', '__getitem__', '__getstate__', '__gt__', '__hash__', '__iadd__', '__imul__', '__init__', '__init_subclass__', '__iter__', '__le__', '__len__', '__lt__', '__mul__', '__ne__', '__new__', '__reduce__', '__reduce_ex__', '__repr__', '__reversed__', '__rmul__', '__setattr__', '__setitem__', '__sizeof__', '__str__', '__subclasshook__', 'append', 'clear', 'copy', 'count', 'extend', 'index', 'insert', 'pop', 'remove', 'reverse', 'sort']\n"
     ]
    }
   ],
   "source": [
    "print(dir(list))"
   ]
  },
  {
   "cell_type": "code",
   "execution_count": null,
   "id": "8e2f62a4-6178-4bc3-b863-495f66cbd038",
   "metadata": {},
   "outputs": [],
   "source": []
  }
 ],
 "metadata": {
  "kernelspec": {
   "display_name": "Python 3 (ipykernel)",
   "language": "python",
   "name": "python3"
  },
  "language_info": {
   "codemirror_mode": {
    "name": "ipython",
    "version": 3
   },
   "file_extension": ".py",
   "mimetype": "text/x-python",
   "name": "python",
   "nbconvert_exporter": "python",
   "pygments_lexer": "ipython3",
   "version": "3.13.5"
  }
 },
 "nbformat": 4,
 "nbformat_minor": 5
}
