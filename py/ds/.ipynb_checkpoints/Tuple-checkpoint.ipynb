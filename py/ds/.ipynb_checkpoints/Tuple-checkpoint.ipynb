{
 "cells": [
  {
   "cell_type": "markdown",
   "id": "9e07f957-6b6e-4f3d-b7fe-7404660bc26c",
   "metadata": {},
   "source": [
    "# Data Structure - Tuple\n",
    "- A tuple is a data structure in programming that stores an ordered, immutable sequence of items\n",
    "- A tuple in Python is an immutable ordered collection of elements.\n",
    "    - Tuples are similar to lists, but unlike lists, they cannot be changed after their creation (i.e., they are immutable).\n",
    "    - Tuples can hold elements of different data types\n",
    "    - The main characteristics of tuples are being ordered , heterogeneous and immutable.\n",
    "   - created by ( ) round brackets"
   ]
  },
  {
   "cell_type": "code",
   "execution_count": 3,
   "id": "7b169ec9-1e94-4311-b2be-e4cbccf909fe",
   "metadata": {},
   "outputs": [],
   "source": [
    "tuple = () # Empty tuple"
   ]
  },
  {
   "cell_type": "code",
   "execution_count": 4,
   "id": "5ac89cdb-ef01-4d86-887e-a54c8c6e85ee",
   "metadata": {},
   "outputs": [
    {
     "data": {
      "text/plain": [
       "tuple"
      ]
     },
     "execution_count": 4,
     "metadata": {},
     "output_type": "execute_result"
    }
   ],
   "source": [
    "type(tuple)"
   ]
  },
  {
   "cell_type": "code",
   "execution_count": 12,
   "id": "7e8614b6-f0be-4368-9ad4-915a57ed1a6a",
   "metadata": {},
   "outputs": [],
   "source": [
    "mot = (\"Car\", \"Plane\", \"Train\", \"Ship\") # Tuple with multiple items"
   ]
  },
  {
   "cell_type": "code",
   "execution_count": 13,
   "id": "0bb2d287-5aed-4057-93b9-56df102b96aa",
   "metadata": {},
   "outputs": [
    {
     "name": "stdout",
     "output_type": "stream",
     "text": [
      "('Car', 'Plane', 'Train', 'Ship')\n"
     ]
    }
   ],
   "source": [
    "print(mot)"
   ]
  },
  {
   "cell_type": "code",
   "execution_count": 14,
   "id": "7f4fe582-9888-4c53-a7e8-0cc1d59742d0",
   "metadata": {},
   "outputs": [
    {
     "data": {
      "text/plain": [
       "('Car', 'Plane', 'Train', 'Ship')"
      ]
     },
     "execution_count": 14,
     "metadata": {},
     "output_type": "execute_result"
    }
   ],
   "source": [
    "mot"
   ]
  },
  {
   "cell_type": "code",
   "execution_count": 15,
   "id": "df0103f1-08b1-47a5-9b9c-29da2a301aba",
   "metadata": {},
   "outputs": [
    {
     "data": {
      "text/plain": [
       "tuple"
      ]
     },
     "execution_count": 15,
     "metadata": {},
     "output_type": "execute_result"
    }
   ],
   "source": [
    "type(mot)"
   ]
  },
  {
   "cell_type": "code",
   "execution_count": 16,
   "id": "e211b174-b305-4baf-834d-0a2d9647ac90",
   "metadata": {},
   "outputs": [],
   "source": [
    "mixed_tuple = (5, \"hello\", 15.1, True, 6)  # Tuple with mixed data types"
   ]
  },
  {
   "cell_type": "code",
   "execution_count": 18,
   "id": "0dbd085d-73ff-4340-9fb0-9341deedfa68",
   "metadata": {},
   "outputs": [
    {
     "name": "stdout",
     "output_type": "stream",
     "text": [
      "(5, 'hello', 15.1, True, 6)\n"
     ]
    }
   ],
   "source": [
    "print(mixed_tuple)"
   ]
  },
  {
   "cell_type": "code",
   "execution_count": 20,
   "id": "ecd30bfa-4413-4b70-8730-050e962da23b",
   "metadata": {},
   "outputs": [],
   "source": [
    "single_item_tuple = (\"class\",) # Note the comma"
   ]
  },
  {
   "cell_type": "code",
   "execution_count": 22,
   "id": "9d3c7b50-a48b-4647-a61c-1c44bc3e50a0",
   "metadata": {},
   "outputs": [
    {
     "name": "stdout",
     "output_type": "stream",
     "text": [
      "('class',)\n"
     ]
    }
   ],
   "source": [
    "print(single_item_tuple)"
   ]
  },
  {
   "cell_type": "markdown",
   "id": "70214fa0-f4ce-4577-9bf8-b69c1c6ec1e0",
   "metadata": {},
   "source": [
    "## Tuple Characteristics\n",
    "- Duplicates\n",
    "- Ordered\n",
    "- Immutable\n",
    "- Mixed Data Types"
   ]
  },
  {
   "cell_type": "code",
   "execution_count": 23,
   "id": "0ccbd78c-bcdf-48fd-906f-7115736286a6",
   "metadata": {},
   "outputs": [
    {
     "data": {
      "text/plain": [
       "15.1"
      ]
     },
     "execution_count": 23,
     "metadata": {},
     "output_type": "execute_result"
    }
   ],
   "source": [
    "mixed_tuple[2]  #ordered ; order starts 0 not from 1"
   ]
  },
  {
   "cell_type": "code",
   "execution_count": 24,
   "id": "5da9c0ff-3db0-400e-8375-7b1315c517cc",
   "metadata": {},
   "outputs": [
    {
     "ename": "TypeError",
     "evalue": "'tuple' object does not support item assignment",
     "output_type": "error",
     "traceback": [
      "\u001b[1;31m---------------------------------------------------------------------------\u001b[0m",
      "\u001b[1;31mTypeError\u001b[0m                                 Traceback (most recent call last)",
      "Cell \u001b[1;32mIn[24], line 1\u001b[0m\n\u001b[1;32m----> 1\u001b[0m mixed_tuple[\u001b[38;5;241m2\u001b[39m] \u001b[38;5;241m=\u001b[39m \u001b[38;5;241m3.5\u001b[39m\n",
      "\u001b[1;31mTypeError\u001b[0m: 'tuple' object does not support item assignment"
     ]
    }
   ],
   "source": [
    "mixed_tuple[2] = 3.5 #error - immutable, ie values in the tuple cannot be changed"
   ]
  },
  {
   "cell_type": "code",
   "execution_count": null,
   "id": "1c9b1acb-75fd-4c81-b790-d85dcc87dbf1",
   "metadata": {},
   "outputs": [],
   "source": [
    "#cannot change any individual element of the tuple"
   ]
  },
  {
   "cell_type": "code",
   "execution_count": 26,
   "id": "65f9acfb-735c-4522-9584-e34fb55f1205",
   "metadata": {},
   "outputs": [
    {
     "name": "stdout",
     "output_type": "stream",
     "text": [
      "(1, 'Alice', 5.7, True, 1, 'John', 'Alice')\n"
     ]
    }
   ],
   "source": [
    "mixed_tuple = (1, \"Alice\", 5.7, True, 1, 'John', \"Alice) \n",
    "print(mixed_tuple) "
   ]
  },
  {
   "cell_type": "code",
   "execution_count": 28,
   "id": "a5e45b5b-f5e0-48b1-9a83-28fc57cb5be7",
   "metadata": {},
   "outputs": [
    {
     "name": "stdout",
     "output_type": "stream",
     "text": [
      "['__add__', '__class__', '__class_getitem__', '__contains__', '__delattr__', '__dir__', '__doc__', '__eq__', '__format__', '__ge__', '__getattribute__', '__getitem__', '__getnewargs__', '__getstate__', '__gt__', '__hash__', '__init__', '__init_subclass__', '__iter__', '__le__', '__len__', '__lt__', '__mul__', '__ne__', '__new__', '__reduce__', '__reduce_ex__', '__repr__', '__rmul__', '__setattr__', '__sizeof__', '__str__', '__subclasshook__', 'count', 'index']\n"
     ]
    }
   ],
   "source": [
    "print(dir(tuple))"
   ]
  },
  {
   "cell_type": "code",
   "execution_count": 30,
   "id": "8414ee25-b92e-4a1b-99ab-156e9096f8db",
   "metadata": {},
   "outputs": [
    {
     "name": "stdout",
     "output_type": "stream",
     "text": [
      "['__add__', '__class__', '__class_getitem__', '__contains__', '__delattr__', '__dir__', '__doc__', '__eq__', '__format__', '__ge__', '__getattribute__', '__getitem__', '__getnewargs__', '__getstate__', '__gt__', '__hash__', '__init__', '__init_subclass__', '__iter__', '__le__', '__len__', '__lt__', '__mul__', '__ne__', '__new__', '__reduce__', '__reduce_ex__', '__repr__', '__rmul__', '__setattr__', '__sizeof__', '__str__', '__subclasshook__', 'count', 'index'] \t\n"
     ]
    }
   ],
   "source": [
    "print(dir(tuple), '\\t')"
   ]
  },
  {
   "cell_type": "code",
   "execution_count": 31,
   "id": "7a47d41f-427e-4aae-9da3-43244cdaca98",
   "metadata": {},
   "outputs": [
    {
     "data": {
      "text/plain": [
       "1"
      ]
     },
     "execution_count": 31,
     "metadata": {},
     "output_type": "execute_result"
    }
   ],
   "source": [
    "mixed_tuple.count(5.7)"
   ]
  },
  {
   "cell_type": "code",
   "execution_count": 32,
   "id": "0e9798b6-6639-46d8-95bf-7ba33233bebd",
   "metadata": {},
   "outputs": [
    {
     "name": "stdout",
     "output_type": "stream",
     "text": [
      "['count', 'index']\n"
     ]
    }
   ],
   "source": [
    "methods = [method for method in dir(tuple) if callable(getattr(tuple, method)) and not method.startswith('__')]\n",
    "print(methods)"
   ]
  },
  {
   "cell_type": "markdown",
   "id": "c2c30420-51ba-48cd-b2f2-acfcee7e644a",
   "metadata": {},
   "source": [
    "- This code extracts all callable methods of tuple, except special double-underscore methods.\n",
    "- These are the two main user-facing methods of tuples:\n",
    "  - Count(value) → returns how many times a value appears.\n",
    "  - Index(value) → returns the first index of a value."
   ]
  },
  {
   "cell_type": "code",
   "execution_count": 33,
   "id": "c232c581-c46f-4b1a-9e3e-e379aee84cbf",
   "metadata": {},
   "outputs": [
    {
     "ename": "TypeError",
     "evalue": "'>' not supported between instances of 'str' and 'int'",
     "output_type": "error",
     "traceback": [
      "\u001b[1;31m---------------------------------------------------------------------------\u001b[0m",
      "\u001b[1;31mTypeError\u001b[0m                                 Traceback (most recent call last)",
      "Cell \u001b[1;32mIn[33], line 1\u001b[0m\n\u001b[1;32m----> 1\u001b[0m \u001b[38;5;28mmax\u001b[39m(mixed_tuple)\n",
      "\u001b[1;31mTypeError\u001b[0m: '>' not supported between instances of 'str' and 'int'"
     ]
    }
   ],
   "source": [
    "max(mixed_tuple)   #error due to mixed types"
   ]
  },
  {
   "cell_type": "code",
   "execution_count": 54,
   "id": "0db8ba48-6028-42d9-a3fa-19296db7ca30",
   "metadata": {},
   "outputs": [],
   "source": [
    "notuple = (17, 4, 8, 10, 3, 9, 17, 9, 6, 17)"
   ]
  },
  {
   "cell_type": "code",
   "execution_count": 55,
   "id": "e1d3e4fa-402c-4279-ba32-d2f82a060bb9",
   "metadata": {},
   "outputs": [
    {
     "name": "stdout",
     "output_type": "stream",
     "text": [
      "(17, 4, 8, 10, 3, 9, 17, 9, 6, 17)\n"
     ]
    }
   ],
   "source": [
    "print(notuple)"
   ]
  },
  {
   "cell_type": "code",
   "execution_count": 56,
   "id": "e132f499-1250-406b-84bb-b027ca340634",
   "metadata": {},
   "outputs": [
    {
     "data": {
      "text/plain": [
       "17"
      ]
     },
     "execution_count": 56,
     "metadata": {},
     "output_type": "execute_result"
    }
   ],
   "source": [
    "max(notuple)"
   ]
  },
  {
   "cell_type": "code",
   "execution_count": 57,
   "id": "a03545b9-a555-486f-840d-1d53d92500b3",
   "metadata": {},
   "outputs": [
    {
     "data": {
      "text/plain": [
       "3"
      ]
     },
     "execution_count": 57,
     "metadata": {},
     "output_type": "execute_result"
    }
   ],
   "source": [
    "min(notuple)"
   ]
  },
  {
   "cell_type": "code",
   "execution_count": 58,
   "id": "79a674d1-efbf-47db-a305-16bec161760b",
   "metadata": {},
   "outputs": [
    {
     "data": {
      "text/plain": [
       "100"
      ]
     },
     "execution_count": 58,
     "metadata": {},
     "output_type": "execute_result"
    }
   ],
   "source": [
    "sum(notuple)"
   ]
  },
  {
   "cell_type": "code",
   "execution_count": 59,
   "id": "c244f781-df92-4b61-b2b2-7bc8367ea4cd",
   "metadata": {},
   "outputs": [
    {
     "data": {
      "text/plain": [
       "10"
      ]
     },
     "execution_count": 59,
     "metadata": {},
     "output_type": "execute_result"
    }
   ],
   "source": [
    "len(notuple)"
   ]
  },
  {
   "cell_type": "code",
   "execution_count": 62,
   "id": "1315747f-9049-43a9-8796-963ccb504eae",
   "metadata": {},
   "outputs": [
    {
     "data": {
      "text/plain": [
       "3"
      ]
     },
     "execution_count": 62,
     "metadata": {},
     "output_type": "execute_result"
    }
   ],
   "source": [
    "notuple.count(17) # Count how many time value is written in dataset tuple"
   ]
  },
  {
   "cell_type": "code",
   "execution_count": 63,
   "id": "3687c0c8-179d-4f87-9259-8a8e503eea1e",
   "metadata": {},
   "outputs": [
    {
     "data": {
      "text/plain": [
       "1"
      ]
     },
     "execution_count": 63,
     "metadata": {},
     "output_type": "execute_result"
    }
   ],
   "source": [
    "notuple.count(3)"
   ]
  },
  {
   "cell_type": "code",
   "execution_count": 64,
   "id": "b8fb22b7-11c6-4361-a685-ddba24c51710",
   "metadata": {},
   "outputs": [
    {
     "data": {
      "text/plain": [
       "0"
      ]
     },
     "execution_count": 64,
     "metadata": {},
     "output_type": "execute_result"
    }
   ],
   "source": [
    "notuple.index(17) # index() is a tuple method that returns the first position (index) of a specified element."
   ]
  },
  {
   "cell_type": "code",
   "execution_count": 65,
   "id": "a26cf321-d177-4995-bc76-2f2d7c97a3f8",
   "metadata": {},
   "outputs": [
    {
     "data": {
      "text/plain": [
       "5"
      ]
     },
     "execution_count": 65,
     "metadata": {},
     "output_type": "execute_result"
    }
   ],
   "source": [
    "notuple.index(9)"
   ]
  },
  {
   "cell_type": "code",
   "execution_count": 68,
   "id": "658cc2c3-03ff-4f40-9c28-1c96d5db983d",
   "metadata": {},
   "outputs": [
    {
     "data": {
      "text/plain": [
       "6"
      ]
     },
     "execution_count": 68,
     "metadata": {},
     "output_type": "execute_result"
    }
   ],
   "source": [
    "notuple.index(17, 1)    # 6   → search for 17 starting from index 1"
   ]
  },
  {
   "cell_type": "markdown",
   "id": "0ccd0730-e2aa-42da-a374-14af0de60ed9",
   "metadata": {},
   "source": [
    "### __contains__\n",
    "\n",
    "- __contains__ is a method in Python.\n",
    "- It is automatically called when you use the in operator."
   ]
  },
  {
   "cell_type": "code",
   "execution_count": 45,
   "id": "e1d2b65c-6fce-4c29-9026-207f4e0a205e",
   "metadata": {},
   "outputs": [
    {
     "name": "stdout",
     "output_type": "stream",
     "text": [
      "True\n",
      "False\n"
     ]
    }
   ],
   "source": [
    "print(4 in notuple)      # True\n",
    "print(15 in notuple)     # False"
   ]
  },
  {
   "cell_type": "code",
   "execution_count": 47,
   "id": "be0dc8aa-8640-4e01-babe-21225b8192c8",
   "metadata": {},
   "outputs": [
    {
     "name": "stdout",
     "output_type": "stream",
     "text": [
      "False\n"
     ]
    }
   ],
   "source": [
    "print(notuple.__contains__(15))"
   ]
  },
  {
   "cell_type": "markdown",
   "id": "eaef8f83-11e0-480e-9f0d-ff725969d975",
   "metadata": {},
   "source": [
    "### __add__\n",
    "- __add__ is a special/magic method in Python.\n",
    "- It is automatically called when you use the + operator"
   ]
  },
  {
   "cell_type": "code",
   "execution_count": 48,
   "id": "bee726d9-3507-40a2-8748-efe4c66595c3",
   "metadata": {},
   "outputs": [],
   "source": [
    "t1 = (1, 2, 3)\n",
    "t2 = (4, 5)"
   ]
  },
  {
   "cell_type": "code",
   "execution_count": 49,
   "id": "429d96b7-948f-4a78-b5db-fb41ffba4508",
   "metadata": {},
   "outputs": [
    {
     "name": "stdout",
     "output_type": "stream",
     "text": [
      "(1, 2, 3, 4, 5)\n"
     ]
    }
   ],
   "source": [
    "print(t1 + t2) "
   ]
  },
  {
   "cell_type": "code",
   "execution_count": 50,
   "id": "205e95da-bc56-4c05-bbb6-3458dcdd5f83",
   "metadata": {},
   "outputs": [
    {
     "name": "stdout",
     "output_type": "stream",
     "text": [
      "(1, 2, 3, 4, 5)\n"
     ]
    }
   ],
   "source": [
    "print(t1.__add__(t2))"
   ]
  },
  {
   "cell_type": "markdown",
   "id": "06dccb57-1130-402e-9a26-49e07bfd9554",
   "metadata": {},
   "source": [
    "### __Class__\n",
    "- __class__ is not a function, it’s an attribute of any Python object.\n",
    "- It tells you which class the object belongs to."
   ]
  },
  {
   "cell_type": "code",
   "execution_count": 51,
   "id": "c01ff424-57ba-484d-bc49-88d5f7861fd4",
   "metadata": {},
   "outputs": [
    {
     "name": "stdout",
     "output_type": "stream",
     "text": [
      "<class 'tuple'>\n"
     ]
    }
   ],
   "source": [
    "print(notuple.__class__)  "
   ]
  },
  {
   "cell_type": "code",
   "execution_count": null,
   "id": "1a3e2f4f-9bd2-42c6-817e-7caeba7de9bb",
   "metadata": {},
   "outputs": [],
   "source": [
    "__class_getitem__"
   ]
  },
  {
   "cell_type": "code",
   "execution_count": null,
   "id": "17974a1b-7508-4d92-bc1e-f2af8e5720d6",
   "metadata": {},
   "outputs": [],
   "source": []
  },
  {
   "cell_type": "code",
   "execution_count": null,
   "id": "2f70124b-8adb-4184-a71e-7cb989e4ed58",
   "metadata": {},
   "outputs": [],
   "source": [
    "__delattr__'"
   ]
  },
  {
   "cell_type": "code",
   "execution_count": null,
   "id": "d761d062-b712-40f0-9e9e-b2cac111a113",
   "metadata": {},
   "outputs": [],
   "source": []
  },
  {
   "cell_type": "code",
   "execution_count": null,
   "id": "49792b59-7899-44bb-be9b-3628e0582c25",
   "metadata": {},
   "outputs": [],
   "source": [
    "__dir_"
   ]
  },
  {
   "cell_type": "code",
   "execution_count": null,
   "id": "a7556a9a-525e-4a94-8ab6-c76b3da3c228",
   "metadata": {},
   "outputs": [],
   "source": []
  },
  {
   "cell_type": "code",
   "execution_count": null,
   "id": "b40e08db-68b8-4619-894d-85b25d38be1d",
   "metadata": {},
   "outputs": [],
   "source": [
    "__doc__'"
   ]
  },
  {
   "cell_type": "code",
   "execution_count": null,
   "id": "3679b8e9-f44e-439b-8e1b-7b554e4e7a2c",
   "metadata": {},
   "outputs": [],
   "source": []
  },
  {
   "cell_type": "code",
   "execution_count": null,
   "id": "d0d60bf6-dc32-4145-a913-0321b3b66b07",
   "metadata": {},
   "outputs": [],
   "source": [
    "__eq__"
   ]
  },
  {
   "cell_type": "code",
   "execution_count": null,
   "id": "613509bf-4acf-4bdc-9b97-ffc089a2670e",
   "metadata": {},
   "outputs": [],
   "source": []
  },
  {
   "cell_type": "code",
   "execution_count": null,
   "id": "e05a8f61-bb1e-4be0-942f-4ce9d5b2839a",
   "metadata": {},
   "outputs": [],
   "source": [
    "__format__"
   ]
  },
  {
   "cell_type": "code",
   "execution_count": null,
   "id": "2c362d42-8dbf-4d28-8873-2bfb4a06a307",
   "metadata": {},
   "outputs": [],
   "source": []
  },
  {
   "cell_type": "code",
   "execution_count": null,
   "id": "f0a54ce8-6bf9-4022-af5d-cac2b3155386",
   "metadata": {},
   "outputs": [],
   "source": [
    "__ge__'"
   ]
  },
  {
   "cell_type": "code",
   "execution_count": null,
   "id": "c2f5b5dd-650c-47ca-8762-9696b1890898",
   "metadata": {},
   "outputs": [],
   "source": []
  },
  {
   "cell_type": "code",
   "execution_count": null,
   "id": "9a39822f-0846-4494-9dc4-c950c2843fee",
   "metadata": {},
   "outputs": [],
   "source": [
    "'__getattribute__"
   ]
  },
  {
   "cell_type": "code",
   "execution_count": null,
   "id": "4d044f65-bd3c-49f6-867b-748be6b7815f",
   "metadata": {},
   "outputs": [],
   "source": []
  },
  {
   "cell_type": "code",
   "execution_count": null,
   "id": "3964d62d-e932-421c-80ba-c3491f32d2c9",
   "metadata": {},
   "outputs": [],
   "source": [
    "', '__getitem__', '"
   ]
  },
  {
   "cell_type": "code",
   "execution_count": null,
   "id": "870fb19e-e9c2-49e1-9495-0d98366da7d1",
   "metadata": {},
   "outputs": [],
   "source": []
  },
  {
   "cell_type": "code",
   "execution_count": null,
   "id": "f86fd329-f379-47d2-a7f5-3f73df082172",
   "metadata": {},
   "outputs": [],
   "source": [
    "__getnewargs__', '"
   ]
  },
  {
   "cell_type": "code",
   "execution_count": null,
   "id": "13906524-388f-4a07-84ee-5b5fd6fac036",
   "metadata": {},
   "outputs": [],
   "source": []
  },
  {
   "cell_type": "code",
   "execution_count": null,
   "id": "f1fa8ae5-08b9-4144-a98e-41778fde2742",
   "metadata": {},
   "outputs": [],
   "source": [
    "__getstate__', '"
   ]
  },
  {
   "cell_type": "code",
   "execution_count": null,
   "id": "614a863c-97fd-47ee-95ce-c754e6957d9e",
   "metadata": {},
   "outputs": [],
   "source": []
  },
  {
   "cell_type": "code",
   "execution_count": null,
   "id": "b9a8feee-5357-4d38-9415-c1169e578de0",
   "metadata": {},
   "outputs": [],
   "source": [
    "__gt__', "
   ]
  },
  {
   "cell_type": "code",
   "execution_count": null,
   "id": "2aa27ed5-6d2c-403d-a999-de310c40fd28",
   "metadata": {},
   "outputs": [],
   "source": []
  },
  {
   "cell_type": "code",
   "execution_count": null,
   "id": "4ab38311-3029-4189-9ee5-8592256214f4",
   "metadata": {},
   "outputs": [],
   "source": [
    "'__hash__', '"
   ]
  },
  {
   "cell_type": "code",
   "execution_count": null,
   "id": "a947e7d9-e8fe-4f25-b1a7-08cfcb9a130b",
   "metadata": {},
   "outputs": [],
   "source": []
  },
  {
   "cell_type": "code",
   "execution_count": null,
   "id": "a257433d-c6d8-4711-a0eb-b24a398178e7",
   "metadata": {},
   "outputs": [],
   "source": [
    "__init__', "
   ]
  },
  {
   "cell_type": "code",
   "execution_count": null,
   "id": "111dd4dc-0e01-4234-8a37-68d5d6aa1f5c",
   "metadata": {},
   "outputs": [],
   "source": []
  },
  {
   "cell_type": "code",
   "execution_count": null,
   "id": "ec8f7828-d120-4ccd-af85-5850bef067ac",
   "metadata": {},
   "outputs": [],
   "source": [
    "'__init_subclass__', "
   ]
  },
  {
   "cell_type": "code",
   "execution_count": null,
   "id": "7c23e619-d5a3-497f-9f2d-a3437c74569e",
   "metadata": {},
   "outputs": [],
   "source": []
  },
  {
   "cell_type": "code",
   "execution_count": null,
   "id": "02961233-d1ea-4965-8925-6d84d8426a66",
   "metadata": {},
   "outputs": [],
   "source": [
    "'__iter__', '"
   ]
  },
  {
   "cell_type": "code",
   "execution_count": null,
   "id": "428785ea-b944-44e3-ae66-59ba4719dbe0",
   "metadata": {},
   "outputs": [],
   "source": []
  },
  {
   "cell_type": "code",
   "execution_count": null,
   "id": "5e80d6a4-b00a-41f2-9350-5b7023e4c4b3",
   "metadata": {},
   "outputs": [],
   "source": [
    "__le__', '"
   ]
  },
  {
   "cell_type": "code",
   "execution_count": null,
   "id": "67f4c1be-d20d-4c5b-af27-2a7238bba0db",
   "metadata": {},
   "outputs": [],
   "source": []
  },
  {
   "cell_type": "code",
   "execution_count": null,
   "id": "1f724674-dde7-4e35-8279-7a611dbc5ae8",
   "metadata": {},
   "outputs": [],
   "source": [
    "__len__', "
   ]
  },
  {
   "cell_type": "code",
   "execution_count": null,
   "id": "ef248b26-a786-4242-a987-cad9b8426ea7",
   "metadata": {},
   "outputs": [],
   "source": []
  },
  {
   "cell_type": "code",
   "execution_count": null,
   "id": "98f39f1b-a688-4964-9e48-23fed89d6190",
   "metadata": {},
   "outputs": [],
   "source": [
    "'__lt__', '"
   ]
  },
  {
   "cell_type": "code",
   "execution_count": null,
   "id": "34fb6dea-df78-41a6-b36b-7af2519932d6",
   "metadata": {},
   "outputs": [],
   "source": []
  },
  {
   "cell_type": "code",
   "execution_count": null,
   "id": "d21b4f96-15c2-4bd1-81bb-b159168563d5",
   "metadata": {},
   "outputs": [],
   "source": [
    "__mul__',"
   ]
  },
  {
   "cell_type": "code",
   "execution_count": null,
   "id": "dcdbd627-ba50-4216-9faf-7fb40b62783d",
   "metadata": {},
   "outputs": [],
   "source": []
  },
  {
   "cell_type": "code",
   "execution_count": null,
   "id": "912d4fe6-61de-4d37-a02c-0640f559d5a8",
   "metadata": {},
   "outputs": [],
   "source": [
    " '__ne__', "
   ]
  },
  {
   "cell_type": "code",
   "execution_count": null,
   "id": "89dc4c63-adfd-4845-9f76-90b7cf2a94db",
   "metadata": {},
   "outputs": [],
   "source": []
  },
  {
   "cell_type": "code",
   "execution_count": null,
   "id": "07251f10-912d-408a-aac1-06690cafba11",
   "metadata": {},
   "outputs": [],
   "source": [
    "'__new__', '"
   ]
  },
  {
   "cell_type": "code",
   "execution_count": null,
   "id": "ad52c1f6-fb2f-4ed7-a3e3-43db7070c106",
   "metadata": {},
   "outputs": [],
   "source": []
  },
  {
   "cell_type": "code",
   "execution_count": null,
   "id": "1ae88028-9f80-41de-96c1-c747294c0ecc",
   "metadata": {},
   "outputs": [],
   "source": [
    "__reduce__', '"
   ]
  },
  {
   "cell_type": "code",
   "execution_count": null,
   "id": "45593a61-cfea-4c51-b896-b06e49e05538",
   "metadata": {},
   "outputs": [],
   "source": []
  },
  {
   "cell_type": "code",
   "execution_count": null,
   "id": "2057a756-238f-4a51-a6da-7c31f072da4d",
   "metadata": {},
   "outputs": [],
   "source": [
    "__reduce_ex__', "
   ]
  },
  {
   "cell_type": "code",
   "execution_count": null,
   "id": "671d3098-8f97-49cc-a775-48db3715f12a",
   "metadata": {},
   "outputs": [],
   "source": []
  },
  {
   "cell_type": "code",
   "execution_count": null,
   "id": "a15d172e-374e-4912-bf23-cf118de138ca",
   "metadata": {},
   "outputs": [],
   "source": [
    "'__repr__', '\t"
   ]
  },
  {
   "cell_type": "code",
   "execution_count": null,
   "id": "04f63486-c23b-4463-92c5-495d921bfefa",
   "metadata": {},
   "outputs": [],
   "source": []
  },
  {
   "cell_type": "code",
   "execution_count": null,
   "id": "3d2fdb23-5c35-49e8-8e6d-851aace05544",
   "metadata": {},
   "outputs": [],
   "source": [
    "__rmul__', "
   ]
  },
  {
   "cell_type": "code",
   "execution_count": null,
   "id": "a8e72745-f142-4d4c-be92-8e646bf8acdb",
   "metadata": {},
   "outputs": [],
   "source": []
  },
  {
   "cell_type": "code",
   "execution_count": null,
   "id": "be54a69b-a004-4890-be76-390b032f6701",
   "metadata": {},
   "outputs": [],
   "source": [
    "'__setattr__', '"
   ]
  },
  {
   "cell_type": "code",
   "execution_count": null,
   "id": "c1efe0cb-78d4-4e74-94a6-a33487003b82",
   "metadata": {},
   "outputs": [],
   "source": []
  },
  {
   "cell_type": "code",
   "execution_count": null,
   "id": "18e91b3f-ea7c-4304-ad6b-1da3b6cde1ce",
   "metadata": {},
   "outputs": [],
   "source": [
    "__sizeof__', '"
   ]
  },
  {
   "cell_type": "code",
   "execution_count": null,
   "id": "10e6f9c5-6787-4fca-b515-b7263aa9dee0",
   "metadata": {},
   "outputs": [],
   "source": []
  },
  {
   "cell_type": "code",
   "execution_count": null,
   "id": "5d828e4a-579b-4f66-95ac-35e014c3b9c9",
   "metadata": {},
   "outputs": [],
   "source": [
    "__str__', '"
   ]
  },
  {
   "cell_type": "code",
   "execution_count": null,
   "id": "6ffbe3e8-272a-48b1-aeee-35c641c9b6c5",
   "metadata": {},
   "outputs": [],
   "source": []
  },
  {
   "cell_type": "code",
   "execution_count": null,
   "id": "dc53f5e0-98b0-4573-85d4-616460f61582",
   "metadata": {},
   "outputs": [],
   "source": [
    "__subclasshook__', "
   ]
  },
  {
   "cell_type": "code",
   "execution_count": null,
   "id": "64f00cd2-0ace-4eba-a8e8-2107901f6c5a",
   "metadata": {},
   "outputs": [],
   "source": []
  }
 ],
 "metadata": {
  "kernelspec": {
   "display_name": "Python 3 (ipykernel)",
   "language": "python",
   "name": "python3"
  },
  "language_info": {
   "codemirror_mode": {
    "name": "ipython",
    "version": 3
   },
   "file_extension": ".py",
   "mimetype": "text/x-python",
   "name": "python",
   "nbconvert_exporter": "python",
   "pygments_lexer": "ipython3",
   "version": "3.13.5"
  }
 },
 "nbformat": 4,
 "nbformat_minor": 5
}
