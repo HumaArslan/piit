{
 "cells": [
  {
   "cell_type": "markdown",
   "id": "1486e46b-976e-4263-b00c-c7426f8d116c",
   "metadata": {},
   "source": [
    "# Assignment 1"
   ]
  },
  {
   "cell_type": "markdown",
   "id": "9bb548f9-86da-4e04-9ca3-c2c5db860631",
   "metadata": {},
   "source": [
    "# My Analogy of Analysis vs. Analytics"
   ]
  },
  {
   "attachments": {},
   "cell_type": "markdown",
   "id": "edebaa08-8d98-4f72-a90a-8f69d0460840",
   "metadata": {},
   "source": [
    "| Section                     | Details                                                                                                                                                                                                                                                                                                                                                                                                                                                                                                                                                                                                                           |\n",
    "| --------------------------- | --------------------------------------------------------------------------------------------------------------------------------------------------------------------------------------------------------------------------------------------------------------------------------------------------------------------------------------------------------------------------------------------------------------------------------------------------------------------------------------------------------------------------------------------------------------------------------------------------------------------------------- |\n",
    "| **What Is Data Analysis?**  | Data analysis refers to the act of examining raw facts in order to extract meaning and turn them into useful knowledge. It typically revolves around answering what has happened and why it happened. It might use data from survey results, performance metrics, or even feedback forms and then transform that information into insights.                                                                                                                                                                                                                                                                                       |\n",
    "| **What Is Data Analytics?** | Data analytics uses data to find patterns, forecast future behavior, and even prescribe actions. Essentially, it’s a broader discipline than data analysis that begins with collecting large volumes of structured or unstructured data, cleaning, processing, and then applying statistical models, machine learning algorithms, or data mining techniques.                                                                                                                                                                                                                                                                      |\n",
    "| **Goal**                    | The primary goal of data analysis is to break down past data in order to describe what has already happened and, in some cases, explain why it happened. So, essentially, it helps clarify outcomes by summarizing and interpreting historical patterns. <br><br> Data analytics, on the other hand, is used to project what’s likely to happen next and support decision-making that focuses on the future.                                                                                                                                                                                                                      |\n",
    "| **Focus**                   | Data analysis and analytics areas of focus aren’t quite the same either. The former concentrates on identifying meaningful insights in existing datasets, often through straightforward techniques such as calculating averages, looking at frequency counts, or generating standard reports. It helps answer questions such as: “What happened?” and “How often did it occur?” <br><br> Data analytics, however, digs much deeper. Its focus stretches to relationships, patterns, and probabilities. This broader focus is particularly useful when organizations want to forecast demand or identify risks before they happen. |\n",
    "| **Tools and Techniques**    | **Data analysis:** Excel, R and Python. <br> **Data analytics:** BI Tools, AI, Dashboard, Python and R.                                                                                                                                                                                                                                                                                                                                                                                                                                                                                        "
   ]
  },
  {
   "cell_type": "markdown",
   "id": "4c4bb383-89b3-4db6-8b6d-ba34abb234b3",
   "metadata": {},
   "source": [
    "## Impact of Impostor Phenomenon on Job Performance: Mediating Role of Vicarious Learning, and Impression Management; Moderating Role of Self-Reflection (Thesis)\n"
   ]
  },
  {
   "cell_type": "markdown",
   "id": "25f7d6db-56d8-4e24-8047-6dc47d9ef093",
   "metadata": {},
   "source": [
    "####  The purpose of this research is to study the psychological process by which the impostor phenomenon (IP) impacts job performance. \n",
    "- In this study, it is analyzed how much Vicarious Learning and Impression Management mediate this relationship between the impostor phenomenon and Job performance. And we also analyzed the impact of self-reflection on the relationship between the impostor phenomenon and vicarious learning. \n",
    "- Based on the 7 responses per item technique, a minimum sample size of 553 respondents was collected. Questionnaires were hand-delivered to individuals who responded and collected once they had completed them successfully. In addition, some of the respondents were polled via an online survey. The individual is the study's unit of analysis.\n",
    "- Data is collected in two waves using a time lag of six weeks to evade common method bias.\n",
    "- The results of this study were completely supportive of the developed hypotheses.\n",
    "- This study enhances the existing body of knowledge in the field of IP by employing the Self-Regulation Theory (SRT) to elucidate how individuals prone to experiencing the Impostor Phenomenon (IP) can mitigate its effects on job performance.\n",
    "- The study highlights the significance of imposters' self-regulatory efforts, as well as their utilization of impression management and vicarious learning techniques, in diminishing the impact of the impostor phenomenon and promoting higher job performance.\n",
    "- The findings of the study demonstrate that the association between IP and job performance is influenced by the mediating role of impression management and Vicarious Learning."
   ]
  },
  {
   "cell_type": "markdown",
   "id": "4919420a-e95f-4e7e-9d73-db2709b08793",
   "metadata": {},
   "source": [
    "## Analysis vs. Analytics in this Research Context"
   ]
  },
  {
   "cell_type": "markdown",
   "id": "d4efdb0a-317f-4123-a486-ceb6cd848103",
   "metadata": {},
   "source": [
    "| Aspects          | Analysis                                                                                                                                                                                                                              | Analytics                                                                                                                                                                                                                                                                                               |\n",
    "| ---------------- | ------------------------------------------------------------------------------------------------------------------------------------------------------------------------------------------------------------------------------------- | ------------------------------------------------------------------------------------------------------------------------------------------------------------------------------------------------------------------------------------------------------------------------------------------------------- |\n",
    "| Definition       | Systematic examination & evaluation of data or information by breaking it into its component parts to uncover their interrelationships.<br><br>A profound analysis of relationship, causes, and results basing on amassed information | Involves studying past historical data to research potential trends, to analyse effects of certain decisions or events, or to evaluate the performance of a given tool or scenario.<br><br>Usage of statistical, computational, and predictive methods to obtain patterns or trends in the information. |\n",
    "| Purpose in study | To come up with a way of explaining the impact of IP on job performance, through mediators such as impression management.                                                                                                             | Analyze and model the data (e.g. SPSS or AMOS) in order to identify important trends and correlations.                                                                                                                                                                                                  |\n",
    "| Example          | The explanation of why some people who are high in IP tend to employ the impression management or vicarious learning.                                                                                                                 | Measuring the strength and direction of effects with the use of regression models, SEM, or mediation analysis.                                                                                                                                                                                          |\n",
    "| Approach         | Interpretative: theory driven (SRT), literature review and conceptual insight driven                                                                                                                                                  | Statistically motivated: motivated by statistics and quantitative results of answers.                                                                                                                                                                                                                   |\n",
    "| Outcome          | Theoretical explanations: IP causes a decrease in JP unless it is countered through some behaviors.                                                                                                                                   | Statistical evidence: great mediation of impression management on the connection IP-job performance.                                                                                                                                                                                                    |\n"
   ]
  }
 ],
 "metadata": {
  "kernelspec": {
   "display_name": "Python 3 (ipykernel)",
   "language": "python",
   "name": "python3"
  },
  "language_info": {
   "codemirror_mode": {
    "name": "ipython",
    "version": 3
   },
   "file_extension": ".py",
   "mimetype": "text/x-python",
   "name": "python",
   "nbconvert_exporter": "python",
   "pygments_lexer": "ipython3",
   "version": "3.13.5"
  }
 },
 "nbformat": 4,
 "nbformat_minor": 5
}
