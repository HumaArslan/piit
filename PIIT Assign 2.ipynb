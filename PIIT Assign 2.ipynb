{
 "cells": [
  {
   "cell_type": "markdown",
   "id": "376c257e-0c6a-404f-9d72-759d28be5961",
   "metadata": {},
   "source": [
    "# Assignment 2"
   ]
  },
  {
   "cell_type": "markdown",
   "id": "af6b7e5f-bdf5-4e8e-a988-afb53de39d4b",
   "metadata": {},
   "source": [
    "## Google Sheet Functions"
   ]
  },
  {
   "cell_type": "code",
   "execution_count": null,
   "id": "9612d563-2275-456e-998f-06cc4747ef31",
   "metadata": {},
   "outputs": [],
   "source": []
  }
 ],
 "metadata": {
  "kernelspec": {
   "display_name": "Python 3 (ipykernel)",
   "language": "python",
   "name": "python3"
  },
  "language_info": {
   "codemirror_mode": {
    "name": "ipython",
    "version": 3
   },
   "file_extension": ".py",
   "mimetype": "text/x-python",
   "name": "python",
   "nbconvert_exporter": "python",
   "pygments_lexer": "ipython3",
   "version": "3.13.5"
  }
 },
 "nbformat": 4,
 "nbformat_minor": 5
}
